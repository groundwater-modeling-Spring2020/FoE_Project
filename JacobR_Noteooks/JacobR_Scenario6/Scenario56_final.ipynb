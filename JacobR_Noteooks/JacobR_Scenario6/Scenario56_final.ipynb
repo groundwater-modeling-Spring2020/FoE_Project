{
 "cells": [
  {
   "cell_type": "markdown",
   "metadata": {},
   "source": [
    "# Aquaseca basic domain\n",
    "## Model Description before GroMore proposal \n",
    "This is a steady state box model with recharge and ET. An additional layer was also added to the model.\n",
    "\n",
    "#### Dimensions: \n",
    "- 50 by 50 by 1\n",
    "- dx = dy = 1000 m\n",
    "- dz = varied \n",
    "- three layers\n",
    "\n",
    "#### Topography\n",
    "- Top layer elevation given in csv file\n",
    "- Middle layer is flat and 5m thick\n",
    "- Bottom layer (Layer 3) is flat and 40m thick\n",
    "\n",
    "#### Subsurface Properties: \n",
    "- Porosity = 0.1\n",
    "- Specific yield = 0.1\n",
    "- Storage coefficient=0.0001 \n",
    "- Homogeneous in each layer\n",
    "##### Layers\n",
    " - Layer 1 = Layer 3\n",
    "     - Kx=Ky=Kz= 10m/d\n",
    " - Layer 2 \n",
    "     - 20 leftmost columns, Kx=Ky=Kz= 10m/d\n",
    "     - Other columns, Kz= 0.0001m/d\n",
    "\n",
    "#### Boundary Conditions: \n",
    " - Right boundary is a constant head of 70 m relative to datum for all layers (datum is at bottom of domain)\n",
    " - All other boundaries are no flow\n",
    " - Top left corner: no flow\n",
    "     - Extends from row 45, column 1 to row 50, column 6, inclusive, comprising a total of 21 no flow cells\n",
    " - A symmetric no flow region exists in the bottom left corner\n",
    "     - row 41, column 1 to row 50, column 10.\n",
    " - Middle layer has no flow regions\n",
    "     - Extends from row 43, column 1 to row 50, column 8 \n",
    " \n",
    "#### ET: \n",
    "- Zero in left half\n",
    "- 1E-5 m/day in the right half of the domain\n",
    "- Riparian zone\n",
    "    - Extends from left to right boundary of rows 23 to 29, inclusive\n",
    "    - Rate: 5E-5m/d\n",
    "- Extinction depth= 10m\n",
    " \n",
    "#### Recharge: \n",
    " - Leftmost 15 columns at a rate of 4E-5 m/d\n",
    " - Zero everywhere else\n",
    "\n",
    "#### Stream:\n",
    "- Begins in left boundary and goes to the right in row 26\n",
    "- width=length=thickness= 1.0\n",
    "- No flow is entering the stream\n",
    "- streambed\n",
    "    - K= 1000m/d\n",
    "    - elevation= 1.0m below ground surface\n",
    "    - stage= 0.5m\n",
    "- \"weak sink\" with strength 0.5 (This is set under MODPATH/Particle Options.)\n",
    " \n",
    "#### Well: \n",
    " - Pumping well for Aquaseca\n",
    "     - Completed in bottom layer\n",
    "     - Located at row 21, column 38\n",
    "     - Pumping at a rate of 1500 m^3/day \n",
    "\n",
    "## Model Description after GroMore proposal \n",
    "\n",
    "#### Ag field:\n",
    "- cover a 2000m by 2000m area\n",
    "- 1/8th of the area will be irrigated agriculture at any time (the field area is multiplied by 0.125). \n",
    "- Rectangular irrigated fields extend between rows 21 and 22 (inclusive) and columns 19 and 20 (inclusive).\n",
    "\n",
    "##### ET\n",
    "- ET for the crop is zero - it is accounted for in the calculated recharge \n",
    "\n",
    "##### Recharge\n",
    "- Rate is 20% of the water demand of the crop, representing intentional excess irrigation to avoid soil salinization\n",
    "- Crop water uses/recharge rates:\n",
    "    - Wheat= 0.004m/d / 0.0001m/d\n",
    "    - Pistachios= 0.006m/d / 0.00015m/d\n",
    "    - Cotton: 0.008 m/d / 0.0002 m/d\n",
    "    \n",
    "##### Pumping Well:\n",
    "- Completed in top layer\n",
    "- Row 12 and column 14\n",
    "- Pumping rate equal to the crop water demand plus 20% for excess irrigation plus 30% for irrigation inefficiency\n",
    "    - Wheat= 3000 m3/day\n",
    "    - Pistachos= 4500 m3/d\n",
    "    - Cotton= 6000 m3/d\n",
    "    \n",
    "##### Monitoring wells\n",
    "- Two monitoring in transient conditions\n",
    "    - One at [25000, 25000] \n",
    "    - Other at [12500, 12500].\n",
    "\n",
    "*For simplicity, we will consider a year to be comprised of 12 30-day months."
   ]
  },
  {
   "cell_type": "markdown",
   "metadata": {},
   "source": [
    "## 1. Import packages"
   ]
  },
  {
   "cell_type": "code",
   "execution_count": 2,
   "metadata": {},
   "outputs": [
    {
     "name": "stdout",
     "output_type": "stream",
     "text": [
      "flopy is installed in c:\\users\\jakey\\appdata\\local\\programs\\python\\python38-32\\lib\\site-packages\\flopy\n"
     ]
    }
   ],
   "source": [
    "#import packages\n",
    "import flopy\n",
    "import numpy as np\n",
    "import matplotlib.pyplot as plt\n",
    "import matplotlib as mp\n",
    "import pandas as pd\n",
    "import numpy as np\n",
    "import os\n",
    "import csv\n",
    "\n",
    "#additional analysis tools\n",
    "import flopy.utils.binaryfile as bf\n",
    "from mpl_toolkits.mplot3d import Axes3D\n",
    "from matplotlib import cm\n",
    "from matplotlib.ticker import LinearLocator, FormatStrFormatter\n",
    "np.set_printoptions(threshold=np.inf)\n",
    "\n",
    "#jupyter specific--included to show plots in notebook\n",
    "%matplotlib inline "
   ]
  },
  {
   "cell_type": "markdown",
   "metadata": {},
   "source": [
    "## 2. Discretization and other inputs"
   ]
  },
  {
   "cell_type": "code",
   "execution_count": 2,
   "metadata": {
    "scrolled": true
   },
   "outputs": [
    {
     "name": "stdout",
     "output_type": "stream",
     "text": [
      "recharge location(col, row) (0.0, 0.0) (14.0, 50.0)\n",
      "well1 location(layer, col, row) 29 37\n",
      "well2 location(layer, col, row) 25.0 24.0\n",
      "well3 location(layer, col, row) 37.0 12.0\n",
      "well4 location(layer, col, row) 38 12\n"
     ]
    }
   ],
   "source": [
    "# Discretization\n",
    "nrow = 50 #number of rows\n",
    "ncol = 50 #number of columns\n",
    "nlay = 3  #number of layers\n",
    "\n",
    "dx= 1000 #width of grid cells in x direction \n",
    "dy= 1000 #width of grid cells in y direction \n",
    "Lx = ncol*dx  #width of domain in x\n",
    "Ly = nrow*dy #width of domain in y\n",
    "\n",
    "#ztop = 100\n",
    "ztop = np.genfromtxt('base_model_elevs.csv', delimiter=',', dtype=float)   # top elevation of top layer (import from csv file) (dim: nrow,ncol)\n",
    "#print(type(ztop))\n",
    "#print(ztop.shape)\n",
    "#print(ztop[0,:])\n",
    "zbot = 0.     #bottom elevation\n",
    "\n",
    "\n",
    "## Subsurface properties\n",
    "n = 0.1        #assign porosity\n",
    "Ss = 0.0001      #assign storage coefficient\n",
    "Sy = 0.1        #assign specific yield\n",
    "uncnf = 1       #0=confined, >0 = unconfined\n",
    "\n",
    "## ET\n",
    "ET = 1e-5 #m/day\n",
    "ET_locxy=[[24000,0], [0, 0]] #lower left and upper right corners of ET in xy coordinate\n",
    "rip_ET= 5e-5  #riparian zone\n",
    "rip_locxy= [[0,21000],[23000,0]]\n",
    "extinction_depth = 10 #m\n",
    "#print(ET_locxy)\n",
    "#print(rip_loc)\n",
    "\n",
    "# ET_rows=(np.floor(nrow-ET_locxy[1][1]/dy),np.floor(nrow-ET_locxy[0][1]/dy)) #convert the y locations to rows\n",
    "# ET_cols=(np.floor(ET_locxy[0][0]/dx),np.floor(ET_locxy[1][0]/dx)) #convert the y locations to rows\n",
    "\n",
    "# ET_rows2=(np.floor(nrow-ET_locxy[1][1]/dy),np.floor(nrow-ET_locxy[0][1]/dy)) #convert the y locations to rows\n",
    "# ET_cols2=(np.floor(ET_locxy[0][0]/dx),np.floor(ET_locxy[1][0]/dx))\n",
    "\n",
    "ET_rows_forced=(1.0, 49.0) #me forcing the et_rows to be 0-50\n",
    "ET_cols_forced = (26.0, 49.0)\n",
    "\n",
    "ET_zone = np.zeros((1,nrow,ncol))     # define an array of zeroes the size of the model grid\n",
    "ET_zone[0,int(ET_rows_forced[0]):int(ET_rows_forced[1]), int(ET_cols_forced[0]):int(ET_cols_forced[1])] = ET/2 \n",
    "#print(\"ET location(col, row)\", ET_cols,ET_rows)\n",
    "#print(\"ETrows_forced:\", ET_rows_forced)\n",
    "#print(\"ETrows:\", ET_rows)\n",
    "#print(\"ETcols:\", ET_cols)\n",
    "#print(\"ETrows2:\", ET_rows2)\n",
    "#print(\"ETcols2:\", ET_cols2)\n",
    "\n",
    "rip_rows_forced = (21.0, 28.0)  #forced riparian area\n",
    "rip_cols_forced = (1.0, 49.0)\n",
    "\n",
    "\n",
    "# rip_rows=(np.floor(nrow-rip_locxy[1][1]/dy),np.floor(nrow-rip_locxy[0][1]/dy)) #convert the y locations to rows\n",
    "# rip_cols=(np.floor(rip_locxy[0][0]/dx),np.floor(rip_locxy[1][0]/dx)) #convert the y locations to rows\n",
    "rip_zone = np.zeros((nlay,nrow,ncol))     # define an array of zeroes the size of the model grid\n",
    "ET_zone[0,int(rip_rows_forced[0]):int(rip_rows_forced[1]), int(rip_cols_forced[0]):int(rip_cols_forced[1])] = rip_ET/2\n",
    "#print(\"Riparian location(col, row)\", rip_cols,rip_rows)\n",
    "\n",
    "## Recharge\n",
    "rech=4e-5  #m/d\n",
    "rechxy=[(0,0),(0,36000)]  #recharge zone\n",
    "rech1=1e-6\n",
    "rech2=1e-5\n",
    "rech3=1e-4\n",
    "rech_rows_forced = (1.0, 49.0) #rech zone forced for leftmost 15 cols\n",
    "rech_cols_forced = (1.0, 15.0)\n",
    "\n",
    "agrech_rows_forced = (28.0, 30.0) #rech zone forced for leftmost 15 cols\n",
    "agrech_cols_forced = (18.0, 20.0)\n",
    "agrech = 0.00015  #pistachios (1/8th area already included)\n",
    "nscen = 10 \n",
    "rech_zone_forced = np.zeros((nscen, nrow,ncol))\n",
    "#model 1\n",
    "rech_zone_forced[0, int(rech_rows_forced[0]):int(rech_rows_forced[1]),int(rech_cols_forced[0]):int(rech_cols_forced[1])]=rech1\n",
    "rech_zone_forced[0, int(agrech_rows_forced[0]):int(agrech_rows_forced[1]),int(agrech_cols_forced[0]):int(agrech_cols_forced[1])]=agrech\n",
    "# #model 2\n",
    "# rech_zone_forced[0, int(rech_rows_forced[0]):int(rech_rows_forced[1]),int(rech_cols_forced[0]):int(rech_cols_forced[1])]=rech2\n",
    "# rech_zone_forced[0, int(agrech_rows_forced[0]):int(agrech_rows_forced[1]),int(agrech_cols_forced[0]):int(agrech_cols_forced[1])]=agrech\n",
    "# #model 3\n",
    "# rech_zone_forced[0, int(rech_rows_forced[0]):int(rech_rows_forced[1]),int(rech_cols_forced[0]):int(rech_cols_forced[1])]=rech1 \n",
    "# rech_zone_forced[0, int(agrech_rows_forced[0]):int(agrech_rows_forced[1]),int(agrech_cols_forced[0]):int(agrech_cols_forced[1])]=agrech\n",
    "# #model 4\n",
    "# rech_zone_forced[0, int(rech_rows_forced[0]):int(rech_rows_forced[1]),int(rech_cols_forced[0]):int(rech_cols_forced[1])]=rech1\n",
    "# rech_zone_forced[0, int(agrech_rows_forced[0]):int(agrech_rows_forced[1]),int(agrech_cols_forced[0]):int(agrech_cols_forced[1])]=agrech\n",
    "# #model 5\n",
    "# rech_zone_forced[0, int(rech_rows_forced[0]):int(rech_rows_forced[1]),int(rech_cols_forced[0]):int(rech_cols_forced[1])]=rech1\n",
    "# rech_zone_forced[0, int(agrech_rows_forced[0]):int(agrech_rows_forced[1]),int(agrech_cols_forced[0]):int(agrech_cols_forced[1])]=agrech\n",
    "# #model 6\n",
    "# rech_zone_forced[0, int(rech_rows_forced[0]):int(rech_rows_forced[1]),int(rech_cols_forced[0]):int(rech_cols_forced[1])]=rech1\n",
    "# rech_zone_forced[0, int(agrech_rows_forced[0]):int(agrech_rows_forced[1]),int(agrech_cols_forced[0]):int(agrech_cols_forced[1])]=agrech\n",
    "# #model 7\n",
    "# rech_zone_forced[0, int(rech_rows_forced[0]):int(rech_rows_forced[1]),int(rech_cols_forced[0]):int(rech_cols_forced[1])]=rech1\n",
    "# rech_zone_forced[0, int(agrech_rows_forced[0]):int(agrech_rows_forced[1]),int(agrech_cols_forced[0]):int(agrech_cols_forced[1])]=agrech\n",
    "# #model 8\n",
    "# rech_zone_forced[0, int(rech_rows_forced[0]):int(rech_rows_forced[1]),int(rech_cols_forced[0]):int(rech_cols_forced[1])]=rech1\n",
    "# rech_zone_forced[0, int(agrech_rows_forced[0]):int(agrech_rows_forced[1]),int(agrech_cols_forced[0]):int(agrech_cols_forced[1])]=agrech\n",
    "# #model 8\n",
    "# rech_zone_forced[0, int(rech_rows_forced[0]):int(rech_rows_forced[1]),int(rech_cols_forced[0]):int(rech_cols_forced[1])]=rech1\n",
    "# rech_zone_forced[0, int(agrech_rows_forced[0]):int(agrech_rows_forced[1]),int(agrech_cols_forced[0]):int(agrech_cols_forced[1])]=agrech\n",
    "# #model 9\n",
    "# rech_zone_forced[0, int(rech_rows_forced[0]):int(rech_rows_forced[1]),int(rech_cols_forced[0]):int(rech_cols_forced[1])]=rech1\n",
    "# rech_zone_forced[0, int(agrech_rows_forced[0]):int(agrech_rows_forced[1]),int(agrech_cols_forced[0]):int(agrech_cols_forced[1])]=agrech\n",
    "# #model 10\n",
    "# rech_zone_forced[0, int(rech_rows_forced[0]):int(rech_rows_forced[1]),int(rech_cols_forced[0]):int(rech_cols_forced[1])]=rech2\n",
    "# rech_zone_forced[0, int(agrech_rows_forced[0]):int(agrech_rows_forced[1]),int(agrech_cols_forced[0]):int(agrech_cols_forced[1])]=agrech\n",
    "\n",
    "\n",
    "\n",
    "\n",
    "\n",
    "rech_rows=(np.floor(nrow-rechxy[1][1]/dy),np.floor(nrow-rechxy[0][1]/dy))\n",
    "rech_cols=(np.floor(rechxy[0][0]/dx),np.floor(rechxy[1][0]/dx))\n",
    "#rech_zone=np.zeros(1,nrow,ncol)\n",
    "#rech_zone[0,int(rech_rows[0]):int(rech_rows[1]),int(rech_cols[0]):int(rech_cols[1])]=rech\n",
    "print(\"recharge location(col, row)\", rech_cols,rech_rows)\n",
    "\n",
    "#supply well\n",
    "pumping = 0 #m3/day \n",
    "well_xy= [38000, 29000] #xy location of well \n",
    "well_row = np.floor((nrow)-(well_xy[1]/dy)) #convert the y location to a row\n",
    "well_col=np.floor(well_xy[0]/dx) #convert the x location to a column\n",
    "well_row = 29\n",
    "well_col = 37\n",
    "well_loc = (0,well_row, well_col)\n",
    "well = [2,well_row, well_col, pumping] #Well loc shoudl be layer, row, column\n",
    "print(\"well1 location(layer, col, row)\", well_row, well_col)\n",
    "\n",
    "\n",
    "#MW1\n",
    "pumping2 = 0 #m3/day \n",
    "well2_xy= [25000, 25000] #xy location of well \n",
    "well2_row = np.floor((nrow)-(well2_xy[1]/dy)) #convert the y location to a row\n",
    "well2_col=np.floor(well2_xy[0]/dx)-1 #convert the x location to a column\n",
    "well2_loc = (0,well2_row, well2_col)\n",
    "well2 = [0,well2_row, well2_col, pumping2] #Well loc shoudl be layer, row, column\n",
    "print(\"well2 location(layer, col, row)\", well2_row, well2_col)\n",
    "\n",
    "#MW2\n",
    "pumping3 = 0 #m3/day \n",
    "well3_xy= [12500, 12500] #xy location of well \n",
    "well3_row = np.floor((nrow)-(well3_xy[1]/dy)) #convert the y location to a row\n",
    "well3_col=np.floor(well3_xy[0]/dx) #convert the x location to a column\n",
    "well3_loc = (0,well3_row, well3_col)\n",
    "well3 = [0,well3_row, well3_col, pumping3] \n",
    "print(\"well3 location(layer, col, row)\", well3_row, well3_col)\n",
    "\n",
    "\n",
    "#irrigation well\n",
    "pumping4 = -4500 #m3/day \n",
    "well4_row = 38 \n",
    "well4_col = 12 \n",
    "well4_loc = (0,well4_row, well4_col)\n",
    "well4 = [0,well4_row, well4_col, pumping4] \n",
    "print(\"well4 location(layer, col, row)\", well4_row, well4_col)\n",
    "\n",
    "#wel_spd = {0: [well, well2, well3, well4]}\n",
    "#print(len(wel_spd))\n",
    "\n",
    "## Boundary conditions\n",
    "h_right = 70\n",
    "\n",
    "\n",
    "## Timing\n",
    "# nper = 1 #number of stress periods \n",
    "# steady = [True] #list noting the stress period type"
   ]
  },
  {
   "cell_type": "markdown",
   "metadata": {},
   "source": [
    "### Boundary Conditions"
   ]
  },
  {
   "cell_type": "code",
   "execution_count": 3,
   "metadata": {},
   "outputs": [
    {
     "name": "stdout",
     "output_type": "stream",
     "text": [
      "C:\\Users\\Jakey\\OneDrive\\Desktop\\Git\\HW\\FoE_Project\\JacobR_Noteooks\\JacobR_Scenario6\n",
      "[-999.99     -999.99     -999.99     -999.99     -999.99     -999.99\n",
      " -999.99     -999.99     -999.99       94.33437    94.39355    94.47525\n",
      "   94.57754    94.701515   94.85003    95.02739    95.23945    95.493935\n",
      "   95.80113    96.174774   96.633606   97.20508    97.956825   98.984566\n",
      "  100.48695    98.967804   97.93231    97.18007    96.61454    96.159325\n",
      "   95.78827    95.48319    95.23054    95.020004   94.84372    94.69568\n",
      "   94.57132    94.467255   94.38125    94.31262    94.263374 -999.99\n",
      " -999.99     -999.99     -999.99     -999.99     -999.99     -999.99\n",
      " -999.99     -999.99    ]\n"
     ]
    }
   ],
   "source": [
    "#read in burn-in head values\n",
    "print(os.getcwd())\n",
    "H_init = np.ones((nlay, nrow, ncol), dtype=np.float32) \n",
    "H_init[0,:,:] = np.loadtxt('postdev_toplayer_h_init.csv', delimiter=\",\")\n",
    "H_init[1,:,:] = np.loadtxt('postdev_midlayer_h_init.csv', delimiter=\",\")\n",
    "H_init[2,:,:] = np.loadtxt('postdev_botlayer_h_init.csv', delimiter=\",\")\n",
    "print(H_init[2,:,1])\n",
    "\n",
    "# H_init = np.ones((nlay, nrow, ncol), dtype=np.float32)  #float array (i.e. decimal), sets all heads to 1.0\n",
    "# H_init[:, :, :] = h_right  #initialize the entire domain to the right head value\n",
    "# H_init[:, :, 49] = h_right    #replace first (right) col with desired head value\n",
    "\n",
    "#Define cell activity (IBOUND)\n",
    "ibound=np.ones((nlay,nrow,ncol))                                                  \n",
    "ibound[:,:,0] = 0  #1st col = no flow       \n",
    "ibound[:,:,49] = -1  #last col = constant head \n",
    "\n",
    "ibound[:,0,:49]=0\n",
    "ibound[:,49,:49]=0\n",
    "ibound[:,1,:5]=0\n",
    "ibound[:,2,:4]=0\n",
    "ibound[:,3,:3]=0\n",
    "ibound[:,4,:2]=0\n",
    "\n",
    "ibound[:,48,:5]=0\n",
    "ibound[:,47,:4]=0\n",
    "ibound[:,46,:3]=0\n",
    "ibound[:,45,:2]=0\n",
    "\n",
    "ibound[1:,1,:7]=0\n",
    "ibound[1:,2,:6]=0\n",
    "ibound[1:,3,:5]=0\n",
    "ibound[1:,4,:4]=0\n",
    "ibound[1:,5,:3]=0\n",
    "ibound[1:,6,1]=0\n",
    "\n",
    "ibound[1:,48,:7]=0\n",
    "ibound[1:,47,:6]=0\n",
    "ibound[1:,46,:5]=0\n",
    "ibound[1:,45,:4]=0\n",
    "ibound[1:,44,:3]=0\n",
    "ibound[1:,43,1]=0\n",
    "\n",
    "ibound[2,1,:9]=0\n",
    "ibound[2,2,:8]=0\n",
    "ibound[2,3,:7]=0\n",
    "ibound[2,4,:6]=0\n",
    "ibound[2,5,:5]=0\n",
    "ibound[2,6,:4]=0\n",
    "ibound[2,7,:3]=0\n",
    "ibound[2,8,1]=0\n",
    "\n",
    "ibound[2,48,:9]=0\n",
    "ibound[2,47,:8]=0\n",
    "ibound[2,46,:7]=0\n",
    "ibound[2,45,:6]=0\n",
    "ibound[2,44,:5]=0\n",
    "ibound[2,43,:4]=0\n",
    "ibound[2,42,:3]=0\n",
    "ibound[2,41,1]=0"
   ]
  },
  {
   "cell_type": "markdown",
   "metadata": {},
   "source": [
    "### Seasons and Stressperiods"
   ]
  },
  {
   "cell_type": "code",
   "execution_count": 4,
   "metadata": {},
   "outputs": [],
   "source": [
    "sp_peryr = 1   #number of seasons (with and wihtout ET. April-Sept and Oct-Mar)\n",
    "sp1_len = 360  #sp lengths\n",
    "sim_years = 100\n",
    "nper = int(sp_peryr*sim_years)\n",
    "\n",
    "#setup the steady state array\n",
    "steady = np.ones(nper, dtype=bool)*False     # steady-state or transient flag for each stress period (boolean array)\n",
    "#print(steady)\n",
    "# steady[0] = True    # initial stress period is steady-state\n",
    "\n",
    "#make an array of period lengths\n",
    "perlen=np.tile([sp1_len],sim_years)\n",
    "#perlen=np.append(10,perlen) #add a period of length 10 at the start for the steady state simulation\n",
    "#print(\"Period lengths\", perlen)\n",
    "\n",
    "#make an nstp array for the # of time steps to solve within each period in this case we will do daily \n",
    "#so we can repeat the perlen array\n",
    "nstp=perlen/60 #30 for monthly\n",
    "#nstp[0]=1 #for the steady state solution we just want one output\n",
    "nstp = nstp.astype(int)\n",
    "#print(\"Number of Steps\", nstp)\n",
    "\n",
    "\n",
    "\n",
    "## Boundary conditions\n",
    "h_right = 70\n"
   ]
  },
  {
   "cell_type": "markdown",
   "metadata": {},
   "source": [
    "### Set up varying ET & Pumping"
   ]
  },
  {
   "cell_type": "code",
   "execution_count": 5,
   "metadata": {},
   "outputs": [],
   "source": [
    "                      \n",
    "# ET_dict = {} #set up an ET dictionary, where each key is a stress period num 0-50\n",
    "# ET_zone2 = ET_zone * 0 \n",
    "# # for p in range(0,nper):    #loop over stress periods, odds are 0 ET, evens are reg ET\n",
    "# #     if p == 0:\n",
    "# #         ET_dict[p] = ET_zone\n",
    "# #     elif int(p % 2) != 0:\n",
    "# #         ET_dict[p]=ET_zone2\n",
    "# #         #print(p)\n",
    "# #     else: \n",
    "# #         ET_dict[p] = ET_zone\n",
    "\n",
    "# #No steady state test\n",
    "# for p in range(0,nper):    #loop over stress periods, odds are 0 ET, evens are reg ET\n",
    "#     if p == 0:\n",
    "#         ET_dict[p] = ET_zone2\n",
    "#     elif int(p % 2) != 0:\n",
    "#         ET_dict[p]=ET_zone\n",
    "#         #print(p)\n",
    "#     else: \n",
    "#         ET_dict[p] = ET_zone2\n",
    "\n",
    "\n",
    "#WELL STRESS PERIODS\n",
    "#init_well = [well, well2, well3, well4]\n",
    "#\n",
    "wel_spd = {}    \n",
    "    \n",
    "burn = 0 #0 because of the head file read in\n",
    "decade = 1\n",
    "decade2 = 10 #to calculate pumping after 100 year pumping\n",
    "pump = 47\n",
    "\n",
    "for strper in range(0, nper):    \n",
    "    if strper < burn:\n",
    "        pumping = 0\n",
    "        wel_spd[strper] = [[2,well_row, well_col, pumping], [0, well4_row, well4_col, pumping4]]\n",
    "    elif strper < (burn+decade*10): # 20 for 2 stress periods per 10 years\n",
    "        pumping = round(pump * (decade2**1.5)) *-1\n",
    "        wel_spd[strper] =  [[2,well_row, well_col, pumping], [0, well4_row, well4_col, pumping4]]\n",
    "    else:\n",
    "        decade = decade + 1   \n",
    "        decade2 = decade2 +1\n",
    "        pumping = round(pump * (decade2**1.5)) *-1\n",
    "        wel_spd[strper] =  [[2,well_row, well_col, pumping], [0, well4_row, well4_col, pumping4]]\n",
    "    \n",
    "#print(wel_spd)"
   ]
  },
  {
   "cell_type": "markdown",
   "metadata": {},
   "source": [
    "### Layering"
   ]
  },
  {
   "cell_type": "code",
   "execution_count": 6,
   "metadata": {},
   "outputs": [],
   "source": [
    "## define layer properties \n",
    "K_horiz = 10 #m/d\n",
    "K_vert = 10 #m/d\n",
    "K_vert2 = 0.0001 #m/d  #K for the middle layer \n",
    "\n",
    "\n",
    "## make horizontal K np arrays\n",
    "Kh = np.zeros((nlay,nrow,ncol))     # define an array of zeros the size of the model grid (nlay, nrow, ncol)\n",
    "Kh[:,:,:] = K_horiz # assign the original value to the entire array\n",
    "\n",
    "## Make a arrays for the K values\n",
    "Kz = np.zeros((nlay,nrow,ncol))     # define an array of zeros the size of the model grid (nlay, nrow, ncol)\n",
    "Kz[:,:,:] = K_vert                   # assign the original value to the entire array\n",
    "Kz[1,:,20:49] = K_vert2            #Replace K in the middle layer with the lower value\n",
    "#Kz[1,:,:] = K_vert2\n",
    "#print(K_horiz)\n",
    "#print(Kz)\n",
    "\n",
    "## Make some changes to the parameters\n",
    "bot_elev = 0.\n",
    "mid_elev = 40.\n",
    "top_elev = 45.\n",
    "\n",
    "botm = np.zeros((nlay,nrow,ncol)) # initialize array of zeros for bottom elevation for each model cell (dim: nlay,nrow,ncol)\n",
    "botm[2,:,:] = bot_elev                 # bottom elevation of lowest layer (2) is 0 m\n",
    "botm[1,:,:] = mid_elev                 #bottom elevation of middle layer (1) is 40 m           \n",
    "botm[0,:,:] = top_elev                 # bottom elevation of top layer (0) 45 "
   ]
  },
  {
   "cell_type": "markdown",
   "metadata": {},
   "source": [
    "### Stream"
   ]
  },
  {
   "cell_type": "code",
   "execution_count": 7,
   "metadata": {},
   "outputs": [],
   "source": [
    "#DEFINE RIVERS\n",
    "riv_row= 24\n",
    "riv_sp = [] #create list to store all river cells for stress period 1\n",
    "k_rivbott = 1000 #river bottom hydraulic conductivity in m/d\n",
    "sed_thick = 1 #thickness of riverbed sediment in m\n",
    "cond = k_rivbott*(1)*(1000)/(sed_thick) #river bed conductance in m^2/d\n",
    "r_stage = .5 #stage in river (stress period 1)\n",
    "r_bott = ztop[riv_row,:] #river bottom\n",
    "#print(r_bott)\n",
    "for i in range(1,ncol):\n",
    "    riv_sp.append([0, riv_row, i, r_bott[i]-1+sed_thick+r_stage, cond, r_bott[i]-2])\n",
    "    \n",
    "#print(riv_spd)\n",
    "#create dictionary of stress period data\n",
    "riv_spd = {0: riv_sp}\n",
    "#print(riv_spd)"
   ]
  },
  {
   "cell_type": "markdown",
   "metadata": {},
   "source": [
    "## 3. Run Modflow"
   ]
  },
  {
   "cell_type": "code",
   "execution_count": 5,
   "metadata": {
    "scrolled": true
   },
   "outputs": [
    {
     "name": "stdout",
     "output_type": "stream",
     "text": [
      "0\n",
      "Scenario5_0\n",
      "1\n",
      "Scenario5_1\n"
     ]
    },
    {
     "ename": "NameError",
     "evalue": "name 'nlay' is not defined",
     "output_type": "error",
     "traceback": [
      "\u001b[1;31m---------------------------------------------------------------------------\u001b[0m",
      "\u001b[1;31mNameError\u001b[0m                                 Traceback (most recent call last)",
      "\u001b[1;32m<ipython-input-5-244d1a80d87c>\u001b[0m in \u001b[0;36m<module>\u001b[1;34m\u001b[0m\n\u001b[0;32m     14\u001b[0m \u001b[1;33m\u001b[0m\u001b[0m\n\u001b[0;32m     15\u001b[0m \u001b[1;31m#Discretization - dis\u001b[0m\u001b[1;33m\u001b[0m\u001b[1;33m\u001b[0m\u001b[1;33m\u001b[0m\u001b[0m\n\u001b[1;32m---> 16\u001b[1;33m dis = flopy.modflow.ModflowDis(model=m, nlay=nlay, nrow=nrow, ncol=ncol, \n\u001b[0m\u001b[0;32m     17\u001b[0m                                \u001b[0mdelr\u001b[0m\u001b[1;33m=\u001b[0m\u001b[0mdx\u001b[0m\u001b[1;33m,\u001b[0m \u001b[0mdelc\u001b[0m\u001b[1;33m=\u001b[0m\u001b[0mdy\u001b[0m\u001b[1;33m,\u001b[0m \u001b[0mtop\u001b[0m\u001b[1;33m=\u001b[0m\u001b[0mztop\u001b[0m\u001b[1;33m,\u001b[0m \u001b[0mbotm\u001b[0m\u001b[1;33m=\u001b[0m\u001b[0mbotm\u001b[0m\u001b[1;33m,\u001b[0m\u001b[1;33m\u001b[0m\u001b[1;33m\u001b[0m\u001b[0m\n\u001b[0;32m     18\u001b[0m                                \u001b[0mitmuni\u001b[0m \u001b[1;33m=\u001b[0m \u001b[1;36m4\u001b[0m\u001b[1;33m,\u001b[0m \u001b[0mlenuni\u001b[0m \u001b[1;33m=\u001b[0m \u001b[1;36m2\u001b[0m\u001b[1;33m,\u001b[0m\u001b[1;33m\u001b[0m\u001b[1;33m\u001b[0m\u001b[0m\n",
      "\u001b[1;31mNameError\u001b[0m: name 'nlay' is not defined"
     ]
    }
   ],
   "source": [
    "#create model object\n",
    "# modelname = \"Scenario5\"\n",
    "moddir=\"C:/mf2005\"\n",
    "#moddir = \"/Users/abramfarley/Desktop/gw_modeling/ModFlow_Builds/pymake/examples/mf2005\"\n",
    "#moddir=\"C:/WRDAPP/MF2005.1_12/bin/mf2005.exe\"\n",
    "for scenario in [0,1]:\n",
    "    print(scenario)\n",
    "    #create model object \n",
    "    modelname = \"Scenario5_\"+str(scenario)\n",
    "    print(modelname)\n",
    "    \n",
    "m = flopy.modflow.Modflow(modelname, exe_name = moddir)\n",
    "\n",
    "\n",
    "#Discretization - dis\n",
    "dis = flopy.modflow.ModflowDis(model=m, nlay=nlay, nrow=nrow, ncol=ncol, \n",
    "                               delr=dx, delc=dy, top=ztop, botm=botm, \n",
    "                               itmuni = 4, lenuni = 2, \n",
    "                               nper=nper, steady=steady, perlen=perlen, nstp=nstp)\n",
    "\n",
    "# Boundary and initial conditions - bas\n",
    "bas = flopy.modflow.ModflowBas(m, ibound=ibound, strt=H_init)\n",
    "\n",
    "#Layer properties - lpf\n",
    "lpf = flopy.modflow.ModflowLpf(m, laytyp=1, hk=Kh, \n",
    "                               vka=Kz, ss=Ss,\n",
    "                               sy=Sy,storagecoefficient=True, ipakcb=53)\n",
    "#ET - evt\n",
    "evt = flopy.modflow.mfevt.ModflowEvt(m, surf=ztop, evtr=ET_zone, exdp=extinction_depth, ipakcb=53) \n",
    "\n",
    "#Recharge - rch\n",
    "rch = flopy.modflow.mfrch.ModflowRch(model=m, rech=rech_zone_forced, ipakcb=53)     #create rch object\n",
    "\n",
    "#River - riv\n",
    "riv = flopy.modflow.ModflowRiv(model=m, stress_period_data = riv_spd, ipakcb=53)\n",
    "\n",
    "#Well - wel\n",
    "wel = flopy.modflow.ModflowWel(model=m, stress_period_data=wel_spd)\n",
    "\n",
    "# #Storage?\n",
    "# sto = flopy.mf6.modflow.mfgwfsto.ModflowGwfsto(model=m, loading_package=False, save_flows=True, storagecoefficient=None, iconvert=0, ss=Ss, sy=Sy, transient=True)\n",
    "\n",
    "#Output control - OC \n",
    "#spd = {(0,0):['print head', 'print budget', 'save head', 'save budget']} #create a dictionary for stress period data, where key (0,0) is associated with value ['print...'] \n",
    "\n",
    "oc_spd = {}\n",
    "for kper in range(0, nper):\n",
    "    for kstp in range(nstp[kper]):\n",
    "        #print(kstp)\n",
    "        oc_spd[(kper, kstp)] = ['save head','save drawdown','save budget','print head','print budget']\n",
    "# #print(np.shape(oc_spd))\n",
    "oc = flopy.modflow.ModflowOc(model=m, stress_period_data=oc_spd, compact=True)\n",
    "\n",
    "# oc_spd = {}\n",
    "# for kper in range(0,nper-1): #nper is 201, this is the key for each entry in oc_spd dict\n",
    "#     oc_spd[(kper, 1)] = ['save head','save drawdown','save budget','print head','print budget']\n",
    "#     oc_spd[(kper, 90)] = ['save head','save drawdown','save budget','print head','print budget']\n",
    "#     oc_spd[(kper, 179)] = ['save head','save drawdown','save budget','print head','print budget']\n",
    "# oc = flopy.modflow.ModflowOc(model=m, stress_period_data=oc_spd, compact=True)\n",
    "\n",
    "#Numerical solver - pcg\n",
    "pcg = flopy.modflow.ModflowPcg(model=m, mxiter=5000, iter1=100, relax = 0.95, damp = 0.1)\n",
    "\n",
    "\n",
    "#write the inputs\n",
    "# m.write_input()   \n",
    "# m.evt.check()\n",
    "# m.oc.check()\n",
    "# m.oc.check()\n",
    "# m.lpf.check()\n",
    "# m.pcg.check()\n",
    "# m.riv.check()\n",
    "# m.rch.check()\n",
    "# m.dis.check()\n",
    "\n",
    "\n",
    "\n",
    "#Run the model \n",
    "success, mfoutput = m.run_model(pause=False, report=True)\n",
    "if not success:\n",
    "    raise Exception('MODFLOW did not terminate normally.')"
   ]
  },
  {
   "cell_type": "markdown",
   "metadata": {},
   "source": [
    "### Domain plot"
   ]
  },
  {
   "cell_type": "code",
   "execution_count": 9,
   "metadata": {},
   "outputs": [
    {
     "data": {
      "image/png": "[encoded data removed]",
      "text/plain": [
       "<Figure size 576x576 with 1 Axes>"
      ]
     },
     "metadata": {
      "needs_background": "light"
     },
     "output_type": "display_data"
    }
   ],
   "source": [
    "fig = plt.figure(figsize=(8, 8))\n",
    "ax = fig.add_subplot(1, 1, 1, aspect='equal')\n",
    "\n",
    "modelmap = flopy.plot.PlotMapView(model=m)\n",
    "grid = modelmap.plot_grid()\n",
    "#zones = ET_zone + rech_zone_forced\n",
    "quadmesh = modelmap.plot_array(rech_zone_forced)\n",
    "#quadmesh = modelmap.plot_array(rech_zone_forced)\n",
    "\n",
    "riv_plot = modelmap.plot_bc(ftype='RIV')\n",
    "quadmesh = modelmap.plot_ibound(ibound[0])\n",
    "wel = modelmap.plot_bc(ftype='WEL')\n",
    "#quadmesh = modelmap.plot_array(rech_zone_forced) #, color='purple')\n",
    "#riv_plot = modelmap.plot_bc(ftype='RIV')\n",
    "#chd_plot = modelmap.plot_bc(ftype='CHD')\n",
    "#quadmesh = modelmap.plot_bc('WEL')\n",
    "quadmesh = modelmap.plot_ibound()\n",
    "\n",
    "\n",
    "\n",
    "#add labels and legend\n",
    "plt.xlabel('Lx (m)',fontsize = 14)\n",
    "plt.ylabel('Ly (m)',fontsize = 14)\n",
    "plt.title('Ibound', fontsize = 15, fontweight = 'bold')\n",
    "plt.legend(handles=[mp.patches.Patch(color='blue',label='Const. Head',ec='black'),\n",
    "                   mp.patches.Patch(color='white',label='Active Cell',ec='black'),\n",
    "                   mp.patches.Patch(color='black',label='Inactive Cell',ec='black'),\n",
    "                    mp.patches.Patch(color='red',label='well',ec='black'), \n",
    "                   mp.patches.Patch(color='yellow',label='ET_zone',ec='black'),\n",
    "                    mp.patches.Patch(color='orange',label='Recharge',ec='black'),\n",
    "                    mp.patches.Patch(color='green',label='River',ec='black')\n",
    "                   ])\n",
    "\n",
    "plt.show(modelmap)\n",
    "#plt.savefig('Domaingrid.png')"
   ]
  },
  {
   "cell_type": "markdown",
   "metadata": {},
   "source": [
    "### Read in binary files"
   ]
  },
  {
   "cell_type": "code",
   "execution_count": 10,
   "metadata": {},
   "outputs": [
    {
     "name": "stdout",
     "output_type": "stream",
     "text": [
      "[b'         STORAGE', b'   CONSTANT HEAD', b'FLOW RIGHT FACE ', b'FLOW FRONT FACE ', b'FLOW LOWER FACE ', b'   RIVER LEAKAGE', b'              ET', b'        RECHARGE']\n"
     ]
    }
   ],
   "source": [
    "hds = bf.HeadFile(modelname+'.hds')                   # reads the binary head file\n",
    "times = hds.get_times() # returns a list of timesteps\n",
    "#times = []\n",
    "# for t in range(len(perlen)):\n",
    "#     if t == 0:\n",
    "#         times.append(perlen[t])\n",
    "#     else:\n",
    "#         times.append(times[t-1]+perlen[t])\n",
    "#print(times)\n",
    "\n",
    "head = {} \n",
    "leakage = {}\n",
    "fff = {}\n",
    "stor = {}\n",
    "recharge = {}\n",
    "et = {}\n",
    "frf = {}\n",
    "headobj = flopy.utils.binaryfile.HeadFile(modelname+'.hds')\n",
    "budgobj = flopy.utils.binaryfile.CellBudgetFile(modelname+'.cbc')\n",
    "\n",
    "print(budgobj.get_unique_record_names())\n",
    "\n",
    "for stress_per, time in enumerate(times): #iterate through times at end of each stress period\n",
    "    head['sp%s'%(stress_per)] = headobj.get_data(totim=time) #append heads to head list for ea stress per\n",
    "    leakage['sp%s'%(stress_per)] = budgobj.get_data(text='RIVER LEAKAGE',totim=time) #append right face flow to frf list for ea stress per\n",
    "    fff['sp%s'%(stress_per)] = budgobj.get_data(text='FLOW FRONT FACE',totim=time) #append front face flow to fff list for ea stress per\n",
    "    frf['sp%s'%(stress_per)] = budgobj.get_data(text='flow right face', totim=time)\n",
    "    stor['sp%s'%(stress_per)] = budgobj.get_data(text='STORAGE',totim=time)\n",
    "    recharge['sp%s'%(stress_per)] = budgobj.get_data(text='RECHARGE', totim=time) \n",
    "    et['sp%s'%(stress_per)] = budgobj.get_data(text='ET', totim=time) \n",
    "\n",
    "# print(recharge.keys())\n",
    "# print(recharge[\"sp1\"])\n",
    "# print(recharge[\"sp1199\"])"
   ]
  },
  {
   "cell_type": "code",
   "execution_count": 11,
   "metadata": {},
   "outputs": [
    {
     "name": "stdout",
     "output_type": "stream",
     "text": [
      "600\n"
     ]
    }
   ],
   "source": [
    "print(len(head))"
   ]
  },
  {
   "cell_type": "markdown",
   "metadata": {},
   "source": [
    "### Gridded domain plot"
   ]
  },
  {
   "cell_type": "code",
   "execution_count": 12,
   "metadata": {},
   "outputs": [],
   "source": [
    "# fig = plt.figure(figsize=(15, 5))\n",
    "# ax = fig.add_subplot(1, 1, 1)\n",
    "\n",
    "# xsect = flopy.plot.PlotCrossSection(model=m, line={'row': 25}) #note use the key 'column' if you want to plot a column instaed\n",
    "# patches = xsect.plot_ibound(color_noflow='red', color_ch='blue')\n",
    "# #patches = xsect.plot_bc('WEL', color='red')\n",
    "# # linecollection = xsect.plot_grid(color='green')\n",
    "# # t = ax.set_title('Row 25 Cross-Section with IBOUND Boundary Conditions')\n",
    "\n",
    "# pc = xsect.plot_array(head['sp1200'], masked_values=[-999.99], head=head, alpha=0.5)\n",
    "# patches = xsect.plot_ibound(head=head['sp1200'])\n",
    "# #patches = xsect.plot_ibound(color_noflow='red', color_ch='blue')\n",
    "# #patches = xsect.plot_bc('WEL', color='red')\n",
    "# linecollection = xsect.plot_grid(color='black', lw=0.5)\n",
    "# t = ax.set_title('3 Layer Model Row 25 Cross-Section')\n",
    "# cb = plt.colorbar(pc, shrink=0.75)\n",
    "# #Overlay the head in a layer of the model- in this case I'm doing the top layer i.e. head3[0,:,:]\n",
    "# wt = xsect.plot_surface(head['sp200'][0,:,:], masked_values=[999.], color='blue', lw=1)"
   ]
  },
  {
   "cell_type": "markdown",
   "metadata": {},
   "source": [
    "## Plotting Heads"
   ]
  },
  {
   "cell_type": "code",
   "execution_count": 13,
   "metadata": {},
   "outputs": [
    {
     "data": {
      "image/png": "[encoded data removed]",
      "text/plain": [
       "<Figure size 432x288 with 1 Axes>"
      ]
     },
     "metadata": {
      "needs_background": "light"
     },
     "output_type": "display_data"
    }
   ],
   "source": [
    "\n",
    "#plot a time series at cell left of river\n",
    "#get time series for cell\n",
    "\n",
    "cell_id1 = well_loc #cell at the center of the ag area\n",
    "time_series1 = headobj.get_ts(cell_id1) #get the time series using flopy\n",
    "\n",
    "#create firt plot  \n",
    "plt.subplot(1, 1, 1)\n",
    "plt.title(\"Head at Aquaseca Well (Scen5)\",fontweight='bold')\n",
    "plt.xlabel('time (years)',fontweight='bold')\n",
    "plt.ylabel('head (m)',fontweight='bold')\n",
    "plt.ylim(74.5,76)\n",
    "plt.plot(time_series1[:, 0]/360, time_series1[:, 1], 'b-', color=\"brown\") #plot the time series with points at each record\n",
    "\n",
    "plt.savefig(\"Head_Aqua5.png\",dpi=600)\n",
    "plt.show()\n"
   ]
  },
  {
   "cell_type": "code",
   "execution_count": 14,
   "metadata": {},
   "outputs": [
    {
     "data": {
      "image/png": "[encoded data removed]",
      "text/plain": [
       "<Figure size 432x288 with 1 Axes>"
      ]
     },
     "metadata": {
      "needs_background": "light"
     },
     "output_type": "display_data"
    }
   ],
   "source": [
    "\n",
    "#plot a time series at cell left of river\n",
    "#get time series for cell\n",
    "\n",
    "cell_id1 = well2_loc #cell at the center of the ag area\n",
    "time_series1 = headobj.get_ts(cell_id1) #get the time series using flopy\n",
    "\n",
    "#create firt plot  \n",
    "plt.subplot(1, 1, 1)\n",
    "plt.title(\"Head at MW1\",fontweight='bold')\n",
    "plt.xlabel('time (days)',fontweight='bold')\n",
    "plt.ylabel('head (m)',fontweight='bold')\n",
    "plt.plot(time_series1[:, 0], time_series1[:, 1], 'b-') #plot the time series with points at each record\n",
    "# plt.plot(time_series1[900:, 0], time_series1[900:, 1], 'b-') #less data\n",
    "\n",
    "plt.savefig(\"Head_M1_5.png\",dpi=600)\n",
    "plt.show()\n"
   ]
  },
  {
   "cell_type": "code",
   "execution_count": 15,
   "metadata": {},
   "outputs": [
    {
     "data": {
      "image/png": "[encoded data removed]",
      "text/plain": [
       "<Figure size 432x288 with 1 Axes>"
      ]
     },
     "metadata": {
      "needs_background": "light"
     },
     "output_type": "display_data"
    }
   ],
   "source": [
    "\n",
    "#plot a time series at cell left of river\n",
    "#get time series for cell\n",
    "\n",
    "cell_id1 = well3_loc #cell at the center of the ag area\n",
    "time_series1 = headobj.get_ts(cell_id1) #get the time series using flopy\n",
    "\n",
    "#create firt plot  \n",
    "plt.subplot(1, 1, 1)\n",
    "plt.title(\"Head at MW2\",fontweight='bold')\n",
    "plt.xlabel('time (years)',fontweight='bold')\n",
    "plt.ylabel('head (m)',fontweight='bold')\n",
    "plt.ylim(87, 92)\n",
    "plt.plot(time_series1[:, 0]/360, time_series1[:, 1], 'b-') #plot the time series with points at each record\n",
    "\n",
    "plt.savefig(\"Head_M2_5png\", dpi=600)\n",
    "plt.show()\n"
   ]
  },
  {
   "cell_type": "code",
   "execution_count": 16,
   "metadata": {},
   "outputs": [
    {
     "data": {
      "image/png": "[encoded data removed]",
      "text/plain": [
       "<Figure size 432x288 with 1 Axes>"
      ]
     },
     "metadata": {
      "needs_background": "light"
     },
     "output_type": "display_data"
    }
   ],
   "source": [
    "\n",
    "#plot a time series at cell left of river\n",
    "#get time series for cell\n",
    "\n",
    "cell_id1 = well4_loc #cell at the center of the ag area\n",
    "time_series1 = headobj.get_ts(cell_id1) #get the time series using flopy\n",
    "\n",
    "#create firt plot  \n",
    "plt.subplot(1, 1, 1)\n",
    "plt.title(\"Head at Irrigation Well (Scen 5)\",fontweight='bold')\n",
    "plt.xlabel('time (years)',fontweight='bold')\n",
    "plt.ylabel('head (m)',fontweight='bold')\n",
    "#plt.ylim(89, 92)\n",
    "plt.plot(time_series1[:, 0]/360, time_series1[:, 1], 'b-', color=\"magenta\") #plot the time series with points at each record\n",
    "\n",
    "plt.savefig(\"Head_irri5.png\", dpi=600)\n",
    "plt.show()\n"
   ]
  },
  {
   "cell_type": "markdown",
   "metadata": {},
   "source": [
    "### Leakage calculation"
   ]
  },
  {
   "cell_type": "code",
   "execution_count": 17,
   "metadata": {},
   "outputs": [
    {
     "name": "stdout",
     "output_type": "stream",
     "text": [
      "[6756 6592 6474 6398 6346 6298 6263 6232 6212 6193 6175 6158 6148 6139\n",
      " 6133 6124 6118 6116 6115 6113 6110 6111 6112 6116 6117 6122 6126 6128\n",
      " 6138 6144 6151 6157 6165 6170 6175 6186 6191 6200 6210 6219 6227 6235\n",
      " 6247 6255 6263 6274 6285 6293 6306 6311 6323 6333 6342 6354 6363 6371\n",
      " 6382 6391 6405 6412 6442 6455 6467 6478 6493 6505 6513 6525 6537 6549\n",
      " 6560 6569 6578 6593 6599 6613 6623 6636 6646 6657 6668 6675 6688 6695\n",
      " 6708 6717 6729 6738 6744 6759 6766 6778 6784 6794 6808 6815 6828 6832\n",
      " 6844   99]\n"
     ]
    }
   ],
   "source": [
    "well_loc\n",
    "head['sp0'][0][19][38]\n",
    "#head['sp0'][well_loc[0]][well_loc[1]][well_loc[2]]\n",
    "\n",
    "#budgobj = flopy.utils.binaryfile.CellBudgetFile(modelname+'.cbc')\n",
    "#leakage = budgobj.get_data(text='RIVER LEAKAGE')\n",
    "#print(leakage[0])\n",
    "perflux = np.array(range(nper))\n",
    "\n",
    "for i in range(nper-1):\n",
    "    ##print(\"Stream Leakage for Stress period %s\"%i)\n",
    "    perflux[i] = 0\n",
    "    for k in range(len(leakage['sp%s'%i][0])):\n",
    "        #print(leakage['sp%s'%i][0][k][1])\n",
    "        perflux[i] = perflux[i] + leakage['sp%s'%i][0][k][1]\n",
    "        #flux[i] = flux[i] + leakage[0][k][1]\n",
    "    \n",
    "print(perflux)    \n"
   ]
  },
  {
   "cell_type": "markdown",
   "metadata": {},
   "source": [
    "## Water Budget calculations"
   ]
  },
  {
   "cell_type": "code",
   "execution_count": 18,
   "metadata": {},
   "outputs": [
    {
     "name": "stdout",
     "output_type": "stream",
     "text": [
      "600\n",
      "587\n",
      "Total stream leakge at year 100:\n",
      "120390.94140625\n",
      "587\n",
      "Total GW outflow 100 year:\n",
      "201461.06774902344\n",
      "587\n",
      "Total ET at year 100:\n",
      "-99946.3798828125\n",
      "587\n",
      "Total rech at year 100:\n",
      "320160.0\n"
     ]
    }
   ],
   "source": [
    "print(len(head))\n",
    "##STream Leakage\n",
    "\n",
    "t2 = max(enumerate(times))\n",
    "t = t2[0] - 12\n",
    "print(t)\n",
    "leak = 0\n",
    "for i in range(12):\n",
    "    leak = leak + np.sum(leakage['sp%s'%(t+i)][0].q)\n",
    "print(\"Total stream leakge at year 100:\")    \n",
    "print(leak)   \n",
    "# t = 0\n",
    "# ileak = 0\n",
    "# for i in range(12):\n",
    "#     ileak = ileak + np.sum(leakage['sp%s'%(t+i)][0].q)\n",
    "    \n",
    "# print(int(ileak))    \n",
    "\n",
    "##GW outflow\n",
    "t = t2[0] - 12\n",
    "print(t)\n",
    "frf_total = 0\n",
    "for k in range(nlay):\n",
    "    for i in range(12):\n",
    "        frf_total = frf_total + np.sum(frf['sp%s'%(t+i)][0][k][:][48])\n",
    "\n",
    "print(\"Total GW outflow 100 year:\")\n",
    "print(frf_total)\n",
    "#print(np.sum(leakage['sp0'][0].q) - np.sum(leakage['sp1199'][0].q))\n",
    "\n",
    "## ET\n",
    "t = t2[0] - 12\n",
    "print(t)\n",
    "ET_total = 0\n",
    "for i in range(12):\n",
    "       ET_total = ET_total + np.sum(np.sum(et['sp%s'%(t+i)][0][1][:][:]))\n",
    "print(\"Total ET at year 100:\")\n",
    "print(ET_total) \n",
    "\n",
    "## Recharge\n",
    "t = t2[0] - 12\n",
    "print(t)\n",
    "rech_total = 0\n",
    "for i in range(12):\n",
    "       rech_total = rech_total + np.sum(np.sum(recharge['sp%s'%(t+i)][0][1][:][:]))\n",
    "print(\"Total rech at year 100:\")\n",
    "print(rech_total)     \n"
   ]
  },
  {
   "cell_type": "markdown",
   "metadata": {},
   "source": [
    "### Testing stuff"
   ]
  },
  {
   "cell_type": "code",
   "execution_count": 19,
   "metadata": {},
   "outputs": [
    {
     "data": {
      "text/plain": [
       "600"
      ]
     },
     "execution_count": 19,
     "metadata": {},
     "output_type": "execute_result"
    }
   ],
   "source": [
    "type(times)\n",
    "len(times)\n"
   ]
  },
  {
   "cell_type": "code",
   "execution_count": 20,
   "metadata": {},
   "outputs": [
    {
     "name": "stdout",
     "output_type": "stream",
     "text": [
      "WARNING: unit 14 of package OC already in use\n",
      "****Warning -- two packages of the same type:  <class 'flopy.modflow.mfoc.ModflowOc'> <class 'flopy.modflow.mfoc.ModflowOc'>\n",
      "replacing existing Package...\n"
     ]
    }
   ],
   "source": [
    "oc_spd = {}\n",
    "for kper in range(1,nper): #nper is 201, this is the key for each entry in oc_spd dict\n",
    "    oc_spd[(kper, 1)] = ['save head','save drawdown','save budget','print head','print budget']\n",
    "    oc_spd[(kper, 90)] = ['save head','save drawdown','save budget','print head','print budget']\n",
    "    oc_spd[(kper, 179)] = ['save head','save drawdown','save budget','print head','print budget']\n",
    "oc = flopy.modflow.ModflowOc(model=m, stress_period_data=oc_spd, compact=True)"
   ]
  },
  {
   "cell_type": "markdown",
   "metadata": {},
   "source": [
    "### Storage"
   ]
  },
  {
   "cell_type": "code",
   "execution_count": 43,
   "metadata": {},
   "outputs": [
    {
     "name": "stdout",
     "output_type": "stream",
     "text": [
      "1695257.4278564453\n",
      "year 0.0 23980.83984375\n",
      "year 1.0 25661.51904296875\n",
      "year 2.0 26122.16845703125\n",
      "year 3.0 26209.76123046875\n",
      "year 4.0 26094.54248046875\n",
      "year 5.0 25858.521484375\n",
      "year 6.0 25549.32763671875\n",
      "year 7.0 25196.43798828125\n",
      "year 8.0 24821.45654296875\n",
      "year 9.0 24438.06884765625\n",
      "year 10.0 25173.30859375\n",
      "year 11.0 24711.24462890625\n",
      "year 12.0 24276.166259765625\n",
      "year 13.0 23855.679443359375\n",
      "year 14.0 23448.655029296875\n",
      "year 15.0 23053.237548828125\n",
      "year 16.0 22670.02685546875\n",
      "year 17.0 22298.312255859375\n",
      "year 18.0 21940.25244140625\n",
      "year 19.0 21591.0234375\n",
      "year 20.0 22421.502197265625\n",
      "year 21.0 22004.611083984375\n",
      "year 22.0 21617.092041015625\n",
      "year 23.0 21246.69580078125\n",
      "year 24.0 20888.664794921875\n",
      "year 25.0 20544.653564453125\n",
      "year 26.0 20210.60009765625\n",
      "year 27.0 19884.315185546875\n",
      "year 28.0 19569.438720703125\n",
      "year 29.0 19264.3837890625\n",
      "year 30.0 20182.0712890625\n",
      "year 31.0 19797.274169921875\n",
      "year 32.0 19444.294921875\n",
      "year 33.0 19104.5732421875\n",
      "year 34.0 18778.25\n",
      "year 35.0 18465.423095703125\n",
      "year 36.0 18159.137451171875\n",
      "year 37.0 17860.9462890625\n",
      "year 38.0 17571.523193359375\n",
      "year 39.0 17289.592529296875\n",
      "year 40.0 18280.041748046875\n",
      "year 41.0 17916.697998046875\n",
      "year 42.0 17584.779296875\n",
      "year 43.0 17267.607421875\n",
      "year 44.0 16962.735107421875\n",
      "year 45.0 16667.892822265625\n",
      "year 46.0 16383.337646484375\n",
      "year 47.0 16103.84765625\n",
      "year 48.0 15835.57470703125\n",
      "year 49.0 15574.221923828125\n",
      "year 50.0 16633.593994140625\n",
      "year 51.0 16289.52734375\n",
      "year 52.0 15972.246337890625\n",
      "year 53.0 15672.167724609375\n",
      "year 54.0 15383.427490234375\n",
      "year 55.0 15105.2802734375\n",
      "year 56.0 14837.344970703125\n",
      "year 57.0 14578.149658203125\n",
      "year 58.0 14325.991455078125\n",
      "year 59.0 14080.178955078125\n",
      "year 60.0 15204.932861328125\n",
      "year 61.0 14874.10107421875\n",
      "year 62.0 14572.878173828125\n",
      "year 63.0 14288.191162109375\n",
      "year 64.0 14014.617919921875\n",
      "year 65.0 13752.687255859375\n",
      "year 66.0 13497.175048828125\n",
      "year 67.0 13252.8984375\n",
      "year 68.0 13015.795654296875\n",
      "year 69.0 12785.982666015625\n",
      "year 70.0 13967.40283203125\n",
      "year 71.0 13645.70166015625\n",
      "year 72.0 13357.533447265625\n",
      "year 73.0 13085.5712890625\n",
      "year 74.0 12822.589111328125\n",
      "year 75.0 12572.247802734375\n",
      "year 76.0 12332.899658203125\n",
      "year 77.0 12100.003784179688\n",
      "year 78.0 11876.648681640625\n",
      "year 79.0 11660.034912109375\n",
      "year 80.0 12901.611572265625\n",
      "year 81.0 12589.182861328125\n",
      "year 82.0 12311.831787109375\n",
      "year 83.0 12050.349853515625\n",
      "year 84.0 11802.459350585938\n",
      "year 85.0 11563.005249023438\n",
      "year 86.0 11336.800537109375\n",
      "year 87.0 11116.676391601562\n",
      "year 88.0 10903.809326171875\n",
      "year 89.0 10700.287475585938\n",
      "year 90.0 11992.022338867188\n",
      "year 91.0 11689.570556640625\n",
      "year 92.0 11419.040893554688\n",
      "year 93.0 11168.207641601562\n",
      "year 94.0 10928.082275390625\n",
      "year 95.0 10699.373168945312\n",
      "year 96.0 10481.457641601562\n",
      "year 97.0 10271.987915039062\n",
      "year 98.0 10068.391479492188\n",
      "year 99.0 9873.148071289062\n",
      "3390514.8557128906\n",
      "2748.7378607344203\n",
      "[0, 1, 2, 3, 4, 5, 6, 7, 8, 9, 10, 11, 12, 13, 14, 15, 16, 17, 18, 19, 20, 21, 22, 23, 24, 25, 26, 27, 28, 29, 30, 31, 32, 33, 34, 35, 36, 37, 38, 39, 40, 41, 42, 43, 44, 45, 46, 47, 48, 49, 50, 51, 52, 53, 54, 55, 56, 57, 58, 59, 60, 61, 62, 63, 64, 65, 66, 67, 68, 69, 70, 71, 72, 73, 74, 75, 76, 77, 78, 79, 80, 81, 82, 83, 84, 85, 86, 87, 88, 89, 90, 91, 92, 93, 94, 95, 96, 97, 98, 99]\n",
      "<class 'dict'>\n"
     ]
    }
   ],
   "source": [
    "# #testing things\n",
    "# type(stor)\n",
    "# stor.keys()\n",
    "# #stor.values()\n",
    "\n",
    "# type(stor[\"sp1\"])\n",
    "# print(stor[\"sp1\"])\n",
    "\n",
    "# SUM=(sum(stor[\"sp1\"]))\n",
    "# print(SUM)\n",
    "\n",
    "# print(stor['sp1'][0][0].shape)\n",
    "\n",
    "# startlay0 = (stor['sp0'][0][0])\n",
    "# startlay1 = (stor['sp0'][0][1])\n",
    "# startlay2 = (stor['sp0'][0][2])\n",
    "# start_stor = startlay0 + startlay1 + startlay2\n",
    "# print(start_stor.sum())\n",
    "\n",
    "# endlay0 = (stor['sp1199'][0][0])\n",
    "# endlay1 = (stor['sp1199'][0][1])\n",
    "# endlay2 = (stor['sp1199'][0][2])\n",
    "# end_stor = endlay0 + endlay1 + endlay2\n",
    "# print(end_stor.sum())\n",
    "\n",
    "#storage change\n",
    "storage_change = 0\n",
    "for i in range(sim_years*sp_peryr*nstp[0]):\n",
    "    storage_i = stor['sp%s'%(i)][0][:].sum()\n",
    "    storage_change = storage_change + storage_i\n",
    "print(storage_change)\n",
    "\n",
    "#yearly storage\n",
    "yearly_stor = {}\n",
    "storage_change = 0\n",
    "yearlist = list(range(100))\n",
    "for i in range(len(yearlist)):\n",
    "    yearlist[i] = yearlist[i]*6\n",
    "#print(yearlist)\n",
    "\n",
    "for i in yearlist:\n",
    "    storage_change = 0\n",
    "    for sp in range(6):\n",
    "        timestep = i + sp\n",
    "        storage_i = stor['sp%s'%(timestep)][0][:].sum()\n",
    "        storage_change = storage_change + storage_i\n",
    "        #print(storage_change)\n",
    "        if sp == 5:\n",
    "            yearly_stor[i/6] = 2*storage_change\n",
    "            print('year', i/6, storage_change)\n",
    "            \n",
    "            \n",
    "#more storage stuff\n",
    "storage_tot = 0\n",
    "for i in range(100):\n",
    "    storage_tot = (storage_tot + yearly_stor[i])\n",
    "    \n",
    "print(storage_tot)\n",
    "print(0.000810714*storage_tot)\n",
    "\n",
    "\n",
    "yearlist2 = list(range(100))\n",
    "print(yearlist2)\n",
    "print(type(yearly_stor))\n",
    "stor_ls = []\n",
    "for i in range(100):\n",
    "    stor_ls.append(yearly_stor[i])\n",
    "  "
   ]
  },
  {
   "cell_type": "code",
   "execution_count": 44,
   "metadata": {
    "scrolled": true
   },
   "outputs": [
    {
     "data": {
      "image/png": "[encoded data removed]",
      "text/plain": [
       "<Figure size 432x288 with 1 Axes>"
      ]
     },
     "metadata": {
      "needs_background": "light"
     },
     "output_type": "display_data"
    }
   ],
   "source": [
    "plt.subplot(1, 1, 1)\n",
    "plt.title(\"Change in Storage\",fontweight='bold')\n",
    "plt.xlabel('Year',fontweight='bold')\n",
    "plt.ylabel('Change Storage',fontweight='bold')\n",
    "plt.plot(yearlist2, stor_ls, 'b-', color=\"darkblue\") #plot the time series with points at each record\n",
    "# plt.savefig('storage.png', dpi=600)\n",
    "plt.show()\n"
   ]
  },
  {
   "cell_type": "markdown",
   "metadata": {},
   "source": [
    "#### Cumulative storage"
   ]
  },
  {
   "cell_type": "code",
   "execution_count": 32,
   "metadata": {},
   "outputs": [],
   "source": [
    "cum_storage_ls = []\n",
    "cum_storage = 0\n",
    "for i in range(100):\n",
    "    cum_storage = cum_storage + yearly_stor[i]\n",
    "    cum_storage_ls.append(cum_storage)\n",
    "    "
   ]
  },
  {
   "cell_type": "code",
   "execution_count": 33,
   "metadata": {},
   "outputs": [
    {
     "data": {
      "image/png": "[encoded data removed]",
      "text/plain": [
       "<Figure size 432x288 with 1 Axes>"
      ]
     },
     "metadata": {
      "needs_background": "light"
     },
     "output_type": "display_data"
    }
   ],
   "source": [
    "plt.subplot(1, 1, 1)\n",
    "plt.title(\"Cumulative Change in Storage\",fontweight='bold')\n",
    "plt.xlabel('Year',fontweight='bold')\n",
    "plt.ylabel('Change Storage',fontweight='bold')\n",
    "plt.plot(yearlist2, cum_storage_ls, 'b-', color=\"purple\") #plot the time series with points at each record\n",
    "# plt.savefig('cumstorage.png', dpi=600)\n",
    "plt.show()"
   ]
  },
  {
   "cell_type": "markdown",
   "metadata": {},
   "source": [
    "## Modpath"
   ]
  },
  {
   "cell_type": "code",
   "execution_count": null,
   "metadata": {
    "scrolled": false
   },
   "outputs": [],
   "source": [
    "# moddirmp=\"/Applications/MODFLOW/mp7\"\n",
    "# #moddirmp=\"/Users/abramfarley/Desktop/gw_modeling/ModFlow_Builds/pymake/examples/mp7\"\n",
    "\n",
    "# mpname=os.path.join(modelname + '_mp')\n",
    "\n",
    "# #Set the range of cell to add particles to [layerstart, rowstart, colstart,  layerend, rowend,  colend]\n",
    "# locsb = [[0, 28, 18, 0, 30, 20]]\n",
    "# #locsb = [[0, 0, 0, 0, 49, 49]]\n",
    "# #set the number of particles per cell\n",
    "# sd = flopy.modpath.CellDataType(drape=0, columncelldivisions=2, rowcelldivisions=2, layercelldivisions=2)\n",
    "# #setup theparticles\n",
    "# p = flopy.modpath.LRCParticleData(subdivisiondata=[sd], lrcregions=[locsb])\n",
    "# pg = flopy.modpath.ParticleGroupLRCTemplate(particlegroupname='PG1',particledata=p,filename='ex01a.pg1.sloc')\n",
    "# particlegroups = [pg]\n",
    "\n",
    "# defaultiface = {'RECHARGE': 6, 'ET': 6}\n",
    "\n",
    "# #setup  the modpath packages\n",
    "# mp = flopy.modpath.Modpath7(modelname=modelname + '_mp', flowmodel=m, exe_name=moddirmp)\n",
    "# mpbas = flopy.modpath.Modpath7Bas(mp, porosity=n, defaultiface=defaultiface)\n",
    "# mpsim = flopy.modpath.Modpath7Sim(mp, simulationtype='combined',\n",
    "#                                   trackingdirection='forward',\n",
    "#                                   weaksinkoption='stop_at',\n",
    "#                                   weaksourceoption='stop_at',\n",
    "#                                   budgetoutputoption='summary',\n",
    "#                                   stoptimeoption='total', \n",
    "#                                   particlegroups= particlegroups)\n",
    "\n",
    "# mp.add_package(rch) # write modpath datasets\n",
    "\n",
    "# mp.write_input()\n",
    "\n",
    "# # run modpath\n",
    "# mp.run_model()\n",
    "\n",
    "# mp.get_package_list()"
   ]
  },
  {
   "cell_type": "markdown",
   "metadata": {},
   "source": [
    "### Read in Modpath outputs"
   ]
  },
  {
   "cell_type": "code",
   "execution_count": null,
   "metadata": {},
   "outputs": [],
   "source": [
    "# #load in the flow path file\n",
    "# fpth = os.path.join(mpname + '.mppth')\n",
    "# p = flopy.utils.PathlineFile(fpth)\n",
    "\n",
    "# #load in the end point file\n",
    "# fpth = os.path.join(mpname + '.mpend')\n",
    "# e = flopy.utils.EndpointFile(fpth, verbose=False)\n",
    "\n",
    "# #make a subset which is all the particles\n",
    "# pall = p.get_alldata()  #formerly pwb and ewb\n",
    "# eall = e.get_alldata()\n",
    "\n",
    "# #make a subset which is particles ending in the Aquaseca well\n",
    "# nodewell = m.dis.get_node([(2, well_row, well_col)])\n",
    "# print(nodewell)\n",
    "# pwell1 = p.get_destination_pathline_data(dest_cells=nodewell)\n",
    "# ewell1 = e.get_destination_endpoint_data(dest_cells=nodewell)\n",
    "\n",
    "# #make a subset which is particles ending in the irrigation well\n",
    "# nodewell4 = m.dis.get_node([(0, well4_row, well4_col)])\n",
    "# print(nodewell4)\n",
    "# pwell4 = p.get_destination_pathline_data(dest_cells=nodewell4)\n",
    "# ewell4 = e.get_destination_endpoint_data(dest_cells=nodewell4)\n",
    "\n",
    "# print(pall)"
   ]
  },
  {
   "cell_type": "markdown",
   "metadata": {},
   "source": [
    "### Plotting particles"
   ]
  },
  {
   "cell_type": "code",
   "execution_count": 35,
   "metadata": {},
   "outputs": [
    {
     "ename": "NameError",
     "evalue": "name 'pall' is not defined",
     "output_type": "error",
     "traceback": [
      "\u001b[1;31m---------------------------------------------------------------------------\u001b[0m",
      "\u001b[1;31mNameError\u001b[0m                                 Traceback (most recent call last)",
      "\u001b[1;32m<ipython-input-35-e51fc29a7e1a>\u001b[0m in \u001b[0;36m<module>\u001b[1;34m\u001b[0m\n\u001b[0;32m      6\u001b[0m \u001b[0mmm\u001b[0m \u001b[1;33m=\u001b[0m \u001b[0mflopy\u001b[0m\u001b[1;33m.\u001b[0m\u001b[0mplot\u001b[0m\u001b[1;33m.\u001b[0m\u001b[0mPlotMapView\u001b[0m\u001b[1;33m(\u001b[0m\u001b[0mmodel\u001b[0m\u001b[1;33m=\u001b[0m\u001b[0mm\u001b[0m\u001b[1;33m,\u001b[0m \u001b[0max\u001b[0m\u001b[1;33m=\u001b[0m\u001b[0max\u001b[0m\u001b[1;33m)\u001b[0m\u001b[1;33m\u001b[0m\u001b[1;33m\u001b[0m\u001b[0m\n\u001b[0;32m      7\u001b[0m \u001b[0mmm\u001b[0m\u001b[1;33m.\u001b[0m\u001b[0mplot_grid\u001b[0m\u001b[1;33m(\u001b[0m\u001b[0mlw\u001b[0m\u001b[1;33m=\u001b[0m\u001b[1;36m0.5\u001b[0m\u001b[1;33m)\u001b[0m\u001b[1;33m\u001b[0m\u001b[1;33m\u001b[0m\u001b[0m\n\u001b[1;32m----> 8\u001b[1;33m \u001b[0mmm\u001b[0m\u001b[1;33m.\u001b[0m\u001b[0mplot_pathline\u001b[0m\u001b[1;33m(\u001b[0m\u001b[0mpall\u001b[0m\u001b[1;33m,\u001b[0m \u001b[0mlayer\u001b[0m\u001b[1;33m=\u001b[0m\u001b[1;34m'all'\u001b[0m\u001b[1;33m,\u001b[0m \u001b[0mcolor\u001b[0m\u001b[1;33m=\u001b[0m\u001b[1;34m'blue'\u001b[0m\u001b[1;33m,\u001b[0m \u001b[0mlw\u001b[0m\u001b[1;33m=\u001b[0m\u001b[1;36m0.5\u001b[0m\u001b[1;33m,\u001b[0m \u001b[0mlinestyle\u001b[0m\u001b[1;33m=\u001b[0m\u001b[1;34m':'\u001b[0m\u001b[1;33m,\u001b[0m \u001b[0mlabel\u001b[0m\u001b[1;33m=\u001b[0m\u001b[1;34m'not captured by wells'\u001b[0m\u001b[1;33m)\u001b[0m \u001b[1;31m#,marker='o', markercolor='black', markersize=3, markerevery=5)\u001b[0m\u001b[1;33m\u001b[0m\u001b[1;33m\u001b[0m\u001b[0m\n\u001b[0m\u001b[0;32m      9\u001b[0m \u001b[1;31m# mm.plot_pathline(pwell1, layer='all', color='red', lw=0.5, linestyle=':', label='Aquaseca well') # ,marker='o', markercolor='black', markersize=3, markerevery=5)\u001b[0m\u001b[1;33m\u001b[0m\u001b[1;33m\u001b[0m\u001b[1;33m\u001b[0m\u001b[0m\n\u001b[0;32m     10\u001b[0m \u001b[1;31m# mm.plot_pathline(pwell4, layer='all', color='green', lw=0.5, linestyle=':', label='Irrigation well') # ,marker='o', markercolor='black', markersize=3, markerevery=5)\u001b[0m\u001b[1;33m\u001b[0m\u001b[1;33m\u001b[0m\u001b[1;33m\u001b[0m\u001b[0m\n",
      "\u001b[1;31mNameError\u001b[0m: name 'pall' is not defined"
     ]
    },
    {
     "data": {
      "image/png": "[encoded data removed]",
      "text/plain": [
       "<Figure size 720x720 with 1 Axes>"
      ]
     },
     "metadata": {
      "needs_background": "light"
     },
     "output_type": "display_data"
    }
   ],
   "source": [
    "# fig = plt.figure(figsize=(10, 10))\n",
    "# ax = fig.add_subplot(1, 1, 1)\n",
    "\n",
    "# ax.set_aspect('equal')\n",
    "# ax.set_title('Flowlines')\n",
    "# mm = flopy.plot.PlotMapView(model=m, ax=ax)\n",
    "# mm.plot_grid(lw=0.5)\n",
    "# mm.plot_pathline(pall, layer='all', color='blue', lw=0.5, linestyle=':', label='not captured by wells') #,marker='o', markercolor='black', markersize=3, markerevery=5)\n",
    "# # mm.plot_pathline(pwell1, layer='all', color='red', lw=0.5, linestyle=':', label='Aquaseca well') # ,marker='o', markercolor='black', markersize=3, markerevery=5)\n",
    "# # mm.plot_pathline(pwell4, layer='all', color='green', lw=0.5, linestyle=':', label='Irrigation well') # ,marker='o', markercolor='black', markersize=3, markerevery=5)\n",
    "# # # mm.ax.legend();\n",
    "# #plt.tight_layout();\n",
    "# # plt.savefig('Pathlines1.png', dpi=600)"
   ]
  },
  {
   "cell_type": "code",
   "execution_count": null,
   "metadata": {},
   "outputs": [],
   "source": []
  }
 ],
 "metadata": {
  "kernelspec": {
   "display_name": "Python 3",
   "language": "python",
   "name": "python3"
  },
  "language_info": {
   "codemirror_mode": {
    "name": "ipython",
    "version": 3
   },
   "file_extension": ".py",
   "mimetype": "text/x-python",
   "name": "python",
   "nbconvert_exporter": "python",
   "pygments_lexer": "ipython3",
   "version": "3.8.1"
  }
 },
 "nbformat": 4,
 "nbformat_minor": 4
}
