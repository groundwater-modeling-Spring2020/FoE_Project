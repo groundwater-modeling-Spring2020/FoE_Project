{
 "cells": [
  {
   "cell_type": "markdown",
   "metadata": {},
   "source": [
    "# Layered Model Self Check Example\n",
    "\n",
    "## Model Description \n",
    "This is a steady state box model with recharge\n",
    "\n",
    "#### Dimensions: \n",
    "- 50 by 50 by 1\n",
    "- dx = dy = 100 m\n",
    "- dz = 100 m  \n",
    "\n",
    "#### Topography\n",
    "- Land surface 100m above the datum on the left hand side\n",
    "- sloping linearly to 85m above the datum on the right hand side\n",
    "\n",
    "#### Subsurface Properties: \n",
    "- Homogeneous \n",
    "- K = 1.0 m/day in x and y and 0.1 m/day in z.  \n",
    "- Porosity = 0.35\n",
    "- Specific yield = 0.3\n",
    "- Storage coefficient=0.001  \n",
    "\n",
    "#### Boundary Conditions: \n",
    " - Left boundary constat head 85m\n",
    " - Right boundary is a constant head of 70 m \n",
    " - Recharge occurs at a rate of 5E-5 m/d uniformly across the domain\n",
    " \n",
    "#### Well: \n",
    " - Pumping well\n",
    "     - Located at (2500, 2500)\n",
    "     - Puping at a rate of 500 m^3/day \n",
    "\n",
    "#### Layered Scenario\n",
    " - Low K layer - Kx=Ky=Kz=0.0001m/d\n",
    " - Extending form 25-35m above the base of the domain\n",
    " - The well is only complted in the lowest layer\n",
    "     "
   ]
  },
  {
   "cell_type": "markdown",
   "metadata": {},
   "source": [
    "## 1. Setup the environment"
   ]
  },
  {
   "cell_type": "code",
   "execution_count": 1,
   "metadata": {},
   "outputs": [
    {
     "name": "stdout",
     "output_type": "stream",
     "text": [
      "flopy is installed in c:\\users\\jakey\\appdata\\local\\programs\\python\\python38-32\\lib\\site-packages\\flopy\n"
     ]
    }
   ],
   "source": [
    "#the basics\n",
    "import flopy\n",
    "import numpy as np\n",
    "import matplotlib as mp\n",
    "import os\n",
    "\n",
    "#additional analysis tools\n",
    "import flopy.utils.binaryfile as bf\n",
    "from mpl_toolkits.mplot3d import Axes3D\n",
    "import matplotlib.pyplot as plt\n",
    "from matplotlib import cm\n",
    "from matplotlib.ticker import LinearLocator, FormatStrFormatter\n",
    "import csv\n",
    "\n",
    "#jupyter specific--included to show plots in notebook\n",
    "%matplotlib inline "
   ]
  },
  {
   "cell_type": "markdown",
   "metadata": {},
   "source": [
    "## 2. Setup the input variables "
   ]
  },
  {
   "cell_type": "code",
   "execution_count": 2,
   "metadata": {},
   "outputs": [
    {
     "name": "stdout",
     "output_type": "stream",
     "text": [
      "0 50 15 0\n",
      "0 28 50 21\n",
      "25 50 50 0\n"
     ]
    }
   ],
   "source": [
    "## Discritization\n",
    "nrow = 50 #number of rows\n",
    "ncol = 50 #number of columns\n",
    "nlay = 3  #number of layers\n",
    "\n",
    "dx= 1000 #width of grid cells in x diretion \n",
    "dy= 1000 #width of grid cells in y diretion \n",
    "\n",
    "Lx = ncol*dx  #width of domain in x\n",
    "Ly = nrow*dy #width of domain in y\n",
    "\n",
    "ztop = np.genfromtxt('top_elev.csv', delimiter=',', dtype=float)   # top elevation of top layer (import from csv file) (dim: nrow,ncol)\n",
    "ztop[0,0] = 125.                                           # insert missing initial value (not sure why didn't import)\n",
    "#print(type(ztop))\n",
    "#print(ztop.shape)\n",
    "#print(ztop[0,:])\n",
    "zbot = 0.     #bottom elevation\n",
    "\n",
    "dz = (ztop - zbot) / nlay #cell height in z direction\n",
    "\n",
    "## Timing\n",
    "nper = 1 #number of stress periods \n",
    "steady = [True] #list noting the stress period type\n",
    "\n",
    "## Subsurface properties\n",
    "K_horiz = 10.    #horizontal hydraulic conductivity \n",
    "K_vert = 10    #assign vertical hydraulic conductivity (along z axis)\n",
    "n = 0.1        #assign porosity\n",
    "Ss = 0.0001      #assign storage coefficient\n",
    "Sy = 0.1        #assign specific yield\n",
    "uncnf = 1       #0=confined, >0 = unconfined\n",
    "\n",
    "\n",
    "\n",
    "#well\n",
    "pumping = 1500 #m3/day  *This rate was figured out from the Water balance of the ET scenario\n",
    "well_xy= [38000, 21000] #xy location of well \n",
    "well_row = np.floor((nrow-1)-(well_xy[1]/dy)) #convert the y location to a row\n",
    "well_col=np.floor(well_xy[0]/dx-1) #convert the x location to a column\n",
    "well_loc = (0,well_row,well_col) #Well loc shoudl be layer, row, column\n",
    "#print(well_loc)\n",
    "#print(well_col)\n",
    "\n",
    "\n",
    "## Boundary conditions\n",
    "h_right = 70\n",
    "\n",
    "ET= 1e-5\n",
    "ET_locxy=[[25000,0],[50000,50000]]\n",
    "extinction_depth=10\n",
    "\n",
    "ET2= 5e-5\n",
    "ET2_locxy=[[0,23000],[50000,29000]]\n",
    "extinction_depth2=10\n",
    "\n",
    "### HINT FOR SETTING UP RECHARGE ZONES IN THE ASSIGNMENT\n",
    "##Zone two properties\n",
    "z_recharge=4e-5\n",
    "z_llxy=[0,0]  #xy coordinates of lower left corner\n",
    "z_urxy=[15000,50000] #xy coordiantes of upper right corner\n",
    "##convert to rows and columns\n",
    "z_rowll = int(np.floor((nrow-1)-(z_llxy[1]/dy)+1)) #convert the y location to a row\n",
    "z_colll=int(np.floor(z_llxy[0]/dx))          #convert the x location to a column\n",
    "z_rowur = int(np.floor((nrow-1)-(z_urxy[1]/dy)+1)) #convert the y location to a row\n",
    "z_colur=int(np.floor(z_urxy[0]/dx))          #convert the x location to a column\n",
    "print(z_colll, z_rowll, z_colur, z_rowur)\n",
    "\n",
    "#NOTE - Recharge applies to the top so this is always 1 layer input even when the model has more layers\n",
    "R_zones = np.zeros((1,nrow,ncol))                             # define an array of zeros the size of the model grid\n",
    "R_zones[0,z_rowur:z_rowll, z_colll:z_colur] = z_recharge\n",
    "\n",
    "z2_ET=5e-5\n",
    "z2_llxy= [0,23000]  #xy coordinates of lower left corner\n",
    "z2_urxy= [50000,29000] #xy coordiantes of upper right corner\n",
    "##convert to rows and columns\n",
    "z2_rowll = int(np.floor((nrow-1)-(z2_llxy[1]/dy)+2)) #convert the y location to a row\n",
    "z2_colll=int(np.floor(z2_llxy[0]/dx))          #convert the x location to a column\n",
    "z2_rowur = int(np.floor((nrow-1)-(z2_urxy[1]/dy)+1)) #convert the y location to a row\n",
    "z2_colur=int(np.floor(z2_urxy[0]/dx))          #convert the x location to a column\n",
    "print(z2_colll, z2_rowll, z2_colur, z2_rowur)\n",
    "\n",
    "#NOTE - Recharge applies to the top so this is always 1 layer input even when the model has more layers\n",
    "ET_zones = np.zeros((1,nrow,ncol))                             # define an array of zeros the size of the model grid\n",
    "ET_zones[0,z2_rowur:z2_rowll, z2_colll:z2_colur] = z2_ET\n",
    "\n",
    "z3_ET=1e-5\n",
    "z3_llxy= [25000,0]  #xy coordinates of lower left corner\n",
    "z3_urxy= [50000,50000] #xy coordiantes of upper right corner\n",
    "#convert to rows and columns\n",
    "z3_rowll = int(np.floor((nrow-1)-(z3_llxy[1]/dy)+1)) #convert the y location to a row\n",
    "z3_colll=int(np.floor(z3_llxy[0]/dx))          #convert the x location to a column\n",
    "z3_rowur = int(np.floor((nrow-1)-(z3_urxy[1]/dy)+1)) #convert the y location to a row\n",
    "z3_colur=int(np.floor(z3_urxy[0]/dx))          #convert the x location to a column\n",
    "print(z3_colll, z3_rowll, z3_colur, z3_rowur)\n",
    "\n",
    "#NOTE - Recharge applies to the top so this is always 1 layer input even when the model has more layers\n",
    "ET3_zones = np.zeros((1,nrow,ncol))                             # define an array of zeros the size of the model grid\n",
    "ET3_zones[0,z3_rowur:z3_rowll, z3_colll:z3_colur] = z3_ET"
   ]
  },
  {
   "cell_type": "markdown",
   "metadata": {},
   "source": [
    "## 3. Setup and run MODFLOW for the one layer scenario "
   ]
  },
  {
   "cell_type": "markdown",
   "metadata": {},
   "source": [
    "## 4. Setup and run MODFLOW for the three layer scenario "
   ]
  },
  {
   "cell_type": "code",
   "execution_count": 3,
   "metadata": {},
   "outputs": [
    {
     "name": "stdout",
     "output_type": "stream",
     "text": [
      "WARNING: unit 22 of package EVT already in use\n",
      "****Warning -- two packages of the same type:  <class 'flopy.modflow.mfevt.ModflowEvt'> <class 'flopy.modflow.mfevt.ModflowEvt'>\n",
      "replacing existing Package...\n",
      "[2, 28.0, 37.0, -1500]\n",
      "Well 1 [layer, row, column, flux]: \n",
      " [2, 28.0, 37.0, -1500]\n",
      "FloPy is using the following  executable to run the model: C:\\mf2005.exe\n",
      "\n",
      "                                  MODFLOW-2005     \n",
      "    U.S. GEOLOGICAL SURVEY MODULAR FINITE-DIFFERENCE GROUND-WATER FLOW MODEL\n",
      "                             Version 1.12.00 2/3/2017                        \n",
      "\n",
      " Using NAME file: ThreeLayer.nam \n",
      " Run start date and time (yyyy/mm/dd hh:mm:ss): 2020/04/15 21:44:24\n",
      "\n",
      " Solving:  Stress period:     1    Time step:     1    Ground-Water Flow Eqn.\n",
      " Run end date and time (yyyy/mm/dd hh:mm:ss): 2020/04/15 21:44:24\n",
      " Elapsed run time:  0.086 Seconds\n",
      "\n",
      "  Normal termination of simulation\n"
     ]
    }
   ],
   "source": [
    "#Initialize the model\n",
    "modelname3 = \"ThreeLayer\"\n",
    "moddir=\"C:\\mf2005\"\n",
    "m3 = flopy.modflow.Modflow(modelname3, exe_name = moddir)\n",
    "\n",
    "## Make some changes to the parameters\n",
    "nlay2=3  #two layers instead of 1\n",
    "botm = np.zeros((nlay2,nrow,ncol)) # initialize array of zeros for bottom elevation for each model cell (dim: nlay,nrow,ncol)\n",
    "botm[1,:,:] = 40.                 # bottom elevation of middle layer (1) is 25 m\n",
    "botm[0,:,:] = 45.                 # bottom elevation of top layer (0) is 35 m \n",
    "\n",
    "## Make a arrays for the K values\n",
    "Kz = np.zeros((nlay2,nrow,ncol))     # define an array of zeros the size of the model grid (nlay, nrow, ncol)\n",
    "Kz[:,:,:] = K_vert                   # assign the original value to the entire array\n",
    "Kz[1,:,21:50] = 0.0001           #Replace the K in the middle layer with the lower value\n",
    "\n",
    "Kh = np.zeros((nlay2,nrow,ncol))     # define an array of zeros the size of the model grid (nlay, nrow, ncol)\n",
    "Kh[:,:,:] = K_horiz                  # assign the original value to the entire array\n",
    "Kh[1,:,:] = K_horiz           #Replace the K in the middle layer with the lower value\n",
    "\n",
    "#Discretization - dis\n",
    "dis = flopy.modflow.ModflowDis(model=m3, nlay=nlay2, nrow=nrow, ncol=ncol, \n",
    "                               delr=dx, delc=dy, top=ztop, botm=botm, \n",
    "                               itmuni = 4, lenuni = 2, \n",
    "                               nper=nper, steady=steady)\n",
    "\n",
    "# Boundary and initial conditions - bas\n",
    "#Define cell activity (IBOUND)\n",
    "ibound = np.ones((nlay2, nrow, ncol), dtype=np.int32) #integer array of dim (z,y,x), makes all cells active                                                     \n",
    "ibound[:,:,49] = -1          #replace rightmost column (all zs, all ys, first x) with -1 to indicate constant head\n",
    "\n",
    "\n",
    "\n",
    "#setup initial heads as 1 everywhere except on the boundaries\n",
    "H_init = np.ones((nlay2, nrow, ncol), dtype=np.float32)  #float array (i.e. decimal), sets all heads to 1.0\n",
    "H_init[:, :, 49] = h_right    #initialize the entire domain to the right head value\n",
    "bas = flopy.modflow.ModflowBas(m3, ibound=ibound, strt=H_init)\n",
    "\n",
    "#Layer properties - lpf\n",
    "lpf = flopy.modflow.ModflowLpf(m3, laytyp=uncnf, hk=Kh, \n",
    "                               vka=Kz, ss=Ss,\n",
    "                               sy=Sy,storagecoefficient=True, ipakcb=53) \n",
    "\n",
    "\n",
    "rch= flopy.modflow.mfrch.ModflowRch(model=m3, rech=R_zones, ipakcb=53)\n",
    "\n",
    "\n",
    "evt = flopy.modflow.mfevt.ModflowEvt(m3, surf=ztop, evtr=ET_zones, exdp=extinction_depth, ipakcb=53) \n",
    "evt = flopy.modflow.mfevt.ModflowEvt(m3, surf=ztop, evtr=ET3_zones, exdp=extinction_depth, ipakcb=53) \n",
    "\n",
    "\n",
    "\n",
    "#Well\n",
    "well_loc = (2,well_row,well_col) #Well loc shoudl be layer, row, column\n",
    "well_1 = [i for i in well_loc] + [-pumping]\n",
    "print(well_1)\n",
    "print(\"Well 1 [layer, row, column, flux]: \\n\", well_1)\n",
    "wel_spd = {0: [well_1]} #putting the well in the bottom layer\n",
    "wel = flopy.modflow.ModflowWel(model=m3, stress_period_data=wel_spd)\n",
    "\n",
    "#Output control - OC \n",
    "spd = {(0,0):['print head', 'print budget', 'save head', 'save budget']} #create a dictionary for stress period data, where key (0,0) is associated with value ['print...'] \n",
    "oc = flopy.modflow.ModflowOc(model=m3, stress_period_data=spd, compact=True)\n",
    "\n",
    "#Numerical solver - pcg\n",
    "pcg = flopy.modflow.ModflowPcg(model=m3)\n",
    "\n",
    "#write the inputs\n",
    "m3.write_input()    \n",
    "\n",
    "#Run the model \n",
    "success, mfoutput = m3.run_model(pause=False, report=True)\n",
    "if not success:\n",
    "    raise Exception('MODFLOW did not terminate normally.')"
   ]
  },
  {
   "cell_type": "markdown",
   "metadata": {},
   "source": [
    "# 5. Plot the domains"
   ]
  },
  {
   "cell_type": "markdown",
   "metadata": {},
   "source": [
    "### Plan view of the domain"
   ]
  },
  {
   "cell_type": "code",
   "execution_count": 4,
   "metadata": {},
   "outputs": [
    {
     "data": {
      "image/png": "[encoded data removed]",
      "text/plain": [
       "<Figure size 576x576 with 1 Axes>"
      ]
     },
     "metadata": {
      "needs_background": "light"
     },
     "output_type": "display_data"
    }
   ],
   "source": [
    "fig = plt.figure(figsize=(8, 8))\n",
    "ax = fig.add_subplot(1, 1, 1, aspect='equal')\n",
    "mapview = flopy.plot.PlotMapView(model=m3)\n",
    "ibound = mapview.plot_ibound()\n",
    "wel = mapview.plot_bc(\"WEL\")\n",
    "linecollection = mapview.plot_grid()"
   ]
  },
  {
   "cell_type": "markdown",
   "metadata": {},
   "source": [
    "### Cross section of the layered model\n",
    "For more examples of cross section plotting check out this notebook: https://github.com/modflowpy/flopy/blob/develop/examples/Notebooks/flopy3.3_PlotCrossSection.ipynb "
   ]
  },
  {
   "cell_type": "code",
   "execution_count": 5,
   "metadata": {},
   "outputs": [
    {
     "data": {
      "image/png": "[encoded data removed]",
      "text/plain": [
       "<Figure size 1080x360 with 1 Axes>"
      ]
     },
     "metadata": {
      "needs_background": "light"
     },
     "output_type": "display_data"
    }
   ],
   "source": [
    "fig = plt.figure(figsize=(15, 5))\n",
    "ax = fig.add_subplot(1, 1, 1)\n",
    "\n",
    "xsect = flopy.plot.PlotCrossSection(model=m3, line={'row': 24}) #note use the key 'column' if you want to plot a column instaed\n",
    "patches = xsect.plot_ibound(color_noflow='red', color_ch='blue')\n",
    "patches = xsect.plot_bc('WEL', color='red')\n",
    "linecollection = xsect.plot_grid(color='green')\n",
    "t = ax.set_title('Row 25 Cross-Section with IBOUND Boundary Conditions')"
   ]
  },
  {
   "cell_type": "markdown",
   "metadata": {},
   "source": [
    "# 5. Add particles to both scenarios\n"
   ]
  },
  {
   "cell_type": "markdown",
   "metadata": {},
   "source": [
    "#### Run the 1 layer scenario"
   ]
  },
  {
   "cell_type": "code",
   "execution_count": 6,
   "metadata": {},
   "outputs": [],
   "source": [
    "moddirmp=\"C:\\mpath7\"\n",
    "\n",
    "locsb = [[0, z2_rowur, z2_colll, 0, z2_rowll, z2_colur]]\n",
    "sd= flopy.modpath.CellDataType(drape=0, columncelldivisions=3, rowcelldivisions=3, layercelldivisions=1)\n",
    "p= flopy.modpath.LRCParticleData(subdivisiondata=[sd], lrcregions=[locsb])\n",
    "pg1 = flopy.modpath.ParticleGroupLRCTemplate(particlegroupname='PG1',particledata=p,filename='ex01a.pg1.sloc')\n",
    "particlegroups = [pg1]\n",
    "\n",
    "defaultiface = {'RECHARGE': 6, 'ET': 6}"
   ]
  },
  {
   "cell_type": "code",
   "execution_count": null,
   "metadata": {},
   "outputs": [],
   "source": []
  },
  {
   "cell_type": "markdown",
   "metadata": {},
   "source": [
    "#### Run the 3 layer scenario"
   ]
  },
  {
   "cell_type": "code",
   "execution_count": 7,
   "metadata": {},
   "outputs": [
    {
     "name": "stdout",
     "output_type": "stream",
     "text": [
      "ThreeLayer_mp\n",
      "FloPy is using the following  executable to run the model: C:\\mpath7.exe\n",
      "\n",
      "MODPATH Version 7.2.001   \n",
      "Program compiled Dec 22 2017 11:11:36 with IFORT compiler (ver. 16.0.0)         \n",
      " \n",
      " \n",
      "Run particle tracking simulation ...\n",
      "Processing Time Step     1 Period     1.  Time =  1.00000E+00  Steady-state flow                                                    \n",
      "\n",
      "Particle Summary:\n",
      "         0 particles are pending release.\n",
      "         0 particles remain active.\n",
      "         0 particles terminated at boundary faces.\n",
      "         0 particles terminated at weak sink cells.\n",
      "         0 particles terminated at weak source cells.\n",
      "       408 particles terminated at strong source/sink cells.\n",
      "         0 particles terminated in cells with a specified zone number.\n",
      "         0 particles were stranded in inactive or dry cells.\n",
      "         0 particles were unreleased.\n",
      "         0 particles have an unknown status.\n",
      " \n",
      "Normal termination.                                                        \n"
     ]
    },
    {
     "data": {
      "text/plain": [
       "['MPBAS', 'MPSIM', 'RCH', 'EVT']"
      ]
     },
     "execution_count": 7,
     "metadata": {},
     "output_type": "execute_result"
    }
   ],
   "source": [
    "locsb = [[0, z2_rowur, z2_colll, 0, z2_rowll, z2_colur]]\n",
    "sd= flopy.modpath.CellDataType(drape=0, columncelldivisions=1, rowcelldivisions=1, layercelldivisions=1)\n",
    "p= flopy.modpath.LRCParticleData(subdivisiondata=[sd], lrcregions=[locsb])\n",
    "pg1 = flopy.modpath.ParticleGroupLRCTemplate(particlegroupname='PG1',particledata=p,filename='ex01a.pg1.sloc')\n",
    "particlegroups = [pg1]\n",
    "\n",
    "defaultiface = {'RECHARGE': 6, 'ET': 6}\n",
    "\n",
    "mpname3=os.path.join(modelname3 + '_mp')\n",
    "print(mpname3)\n",
    "mp3 = flopy.modpath.Modpath7(modelname=modelname3 + '_mp', flowmodel=m3, exe_name=moddirmp)\n",
    "mpbas = flopy.modpath.Modpath7Bas(mp3, porosity=n, defaultiface=defaultiface)\n",
    "mpsim = flopy.modpath.Modpath7Sim(mp3, simulationtype='combined',\n",
    "                                  trackingdirection='forward',\n",
    "                                  weaksinkoption='stop_at',\n",
    "                                  weaksourceoption='stop_at',\n",
    "                                  budgetoutputoption='summary',\n",
    "                                  stoptimeoption='extend', \n",
    "                                  particlegroups= particlegroups)\n",
    "\n",
    "\n",
    "mp3.add_package(rch)\n",
    "mp3.add_package(evt)\n",
    "mp3.write_input()\n",
    "mp3.run_model()\n",
    "mp3.get_package_list()"
   ]
  },
  {
   "cell_type": "markdown",
   "metadata": {},
   "source": [
    "# 6. Read in the outputs\n",
    "\n",
    "###  Modflow outputs - Heads and budget files"
   ]
  },
  {
   "cell_type": "code",
   "execution_count": 8,
   "metadata": {},
   "outputs": [
    {
     "name": "stdout",
     "output_type": "stream",
     "text": [
      "[b'   CONSTANT HEAD', b'FLOW RIGHT FACE ', b'FLOW FRONT FACE ', b'FLOW LOWER FACE ', b'              ET', b'        RECHARGE']\n",
      "1\n"
     ]
    }
   ],
   "source": [
    "# Head - 1 layer model \n",
    "#headobj1 = bf.HeadFile(modelname1+'.hds')    #reads the binary head file\n",
    "#times = headobj1.get_times()                #returns a list of timesteps\n",
    "#head1 = headobj1.get_data(totim=times[-1])        #returns a numpy array of heads for specified time (last timestep)\n",
    "\n",
    "#Head - 3 layer model \n",
    "headobj3 = bf.HeadFile(modelname3+'.hds')    #reads the binary head file\n",
    "times = headobj3.get_times()                #returns a list of timesteps\n",
    "head3 = headobj3.get_data(totim=times[-1])        #returns a numpy array of heads for specified time (last timestep)\n",
    "\n",
    "\n",
    "#Water balance - 1 layer\n",
    "#budgobj1 = bf.CellBudgetFile(modelname1+'.cbc')   #reads the cell budget file    \n",
    "#print(budgobj1.get_unique_record_names())\n",
    "#kstpkper_list1 = budgobj1.get_kstpkper()          #returns a list of stress periods & timesteps\n",
    "#frf1 = budgobj1.get_data(text='flow right face', totim=1.0) #returns an array of flow rates for right face of cells\n",
    "#fff1 = budgobj1.get_data(text='flow front face', totim=1.0) #returns an array of flow rates for front face of cells \n",
    "#et1 = budgobj1.get_data(text='ET', totim=1.0)\n",
    "#recharge1 = budgobj1.get_data(text='RECHARGE', totim=1.0) \n",
    "\n",
    "\n",
    "\n",
    "#Water balance - 3 layer\n",
    "budgobj3 = bf.CellBudgetFile(modelname3+'.cbc')   #reads the cell budget file    \n",
    "print(budgobj3.get_unique_record_names())\n",
    "kstpkper_list3 = budgobj3.get_kstpkper()          #returns a list of stress periods & timesteps\n",
    "frf3 = budgobj3.get_data(text='flow right face', totim=1.0) #returns an array of flow rates for right face of cells\n",
    "fff3 = budgobj3.get_data(text='flow front face', totim=1.0) #returns an array of flow rates for front face of cells \n",
    "et3 = budgobj3.get_data(text='ET', totim=1.0)\n",
    "recharge3 = budgobj3.get_data(text='RECHARGE', totim=1.0) \n",
    "print(len(frf3))"
   ]
  },
  {
   "cell_type": "markdown",
   "metadata": {},
   "source": [
    "### Particle outputs "
   ]
  },
  {
   "cell_type": "code",
   "execution_count": 9,
   "metadata": {},
   "outputs": [
    {
     "name": "stdout",
     "output_type": "stream",
     "text": [
      "[6437]\n"
     ]
    }
   ],
   "source": [
    "### 1 layer model \n",
    "#Particle pathlines\n",
    "#fpth1 = os.path.join(mpname1 + '.mppth')\n",
    "#print(fpth1)\n",
    "#p1 = flopy.utils.PathlineFile(fpth1)\n",
    "\n",
    "#Particle endpoints\n",
    "#fpth1 = os.path.join(mpname1 + '.mpend')\n",
    "#e1 = flopy.utils.EndpointFile(fpth1, verbose=False)\n",
    "\n",
    "#make a subset which is all the particles\n",
    "#pall1 = p1.get_alldata()  \n",
    "#eall1 = e1.get_alldata()\n",
    "        \n",
    "#make a subset which is particles ending in the well\n",
    "#nodewell = m1.dis.get_node([(0,well_row, well_col)])\n",
    "#print(nodewell)\n",
    "#pwell1 = p1.get_destination_pathline_data(dest_cells=nodewell)\n",
    "#ewell1 = e1.get_destination_endpoint_data(dest_cells=nodewell)\n",
    "\n",
    "\n",
    "### 3 layer model \n",
    "#Particle pathlines\n",
    "fpth3 = os.path.join(mpname3 + '.mppth')\n",
    "p3 = flopy.utils.PathlineFile(fpth3)\n",
    "\n",
    "#Particle endpoints\n",
    "fpth3 = os.path.join(mpname3 + '.mpend')\n",
    "e3 = flopy.utils.EndpointFile(fpth3, verbose=False)\n",
    "\n",
    "#make a subset which is all the particles\n",
    "pall3 = p3.get_alldata()  \n",
    "#eall3 = e3.get_alldata()\n",
    "        \n",
    "#make a subset which is particles ending in the well\n",
    "nodewell3 = m3.dis.get_node([(2,well_row, well_col)])\n",
    "print(nodewell3)\n",
    "pwell3 = p3.get_destination_pathline_data(dest_cells=nodewell3)\n",
    "ewell3 = e3.get_destination_endpoint_data(dest_cells=nodewell3)\n",
    "\n",
    "#elocs = []\n",
    "#enodes = []\n",
    "#for idx in range(int(z2_rowur), int(z2_rowll)):\n",
    " #   for idy in range(int(z2_colll), int(z2_colur)):\n",
    "        #elocs.append((0, idx, idy))\n",
    "  #      enodes.append(m1.dis.get_node([(0,idx,idy)]))\n",
    "#prezone1 = p3.get_destination_pathline_data(dest_cells=enodes)\n",
    "#erezone1 = e3.get_destination_endpoint_data(dest_cells=enodes)         \n",
    "#print(enodes)\n"
   ]
  },
  {
   "cell_type": "markdown",
   "metadata": {},
   "source": [
    "# 6. Plotting\n",
    "#### Cross section plots"
   ]
  },
  {
   "cell_type": "code",
   "execution_count": 10,
   "metadata": {},
   "outputs": [
    {
     "data": {
      "image/png": "[encoded data removed]",
      "text/plain": [
       "<Figure size 576x576 with 1 Axes>"
      ]
     },
     "metadata": {
      "needs_background": "light"
     },
     "output_type": "display_data"
    }
   ],
   "source": [
    "fig = plt.figure(figsize=(8, 8))\n",
    "ax = fig.add_subplot(1, 1, 1, aspect='equal')\n",
    "\n",
    "modelmap = flopy.plot.PlotMapView(model=m3)\n",
    "\n",
    "quadmesh = modelmap.plot_array(ET3_zones)\n",
    "\n",
    "quadmesh = modelmap.plot_ibound()\n",
    "quadmesh = modelmap.plot_bc('WEL')\n",
    "grid = modelmap.plot_grid()\n",
    "\n",
    "\n",
    "#add labels and legend\n",
    "plt.xlabel('Lx (m)',fontsize = 14)\n",
    "plt.ylabel('Ly (m)',fontsize = 14)\n",
    "plt.title('Ibound', fontsize = 15, fontweight = 'bold')\n",
    "plt.legend(handles=[mp.patches.Patch(color='blue',label='Const. Head',ec='black'),\n",
    "                   mp.patches.Patch(color='white',label='Active Cell',ec='black'),\n",
    "                   mp.patches.Patch(color='black',label='Inactive Cell',ec='black'),\n",
    "                    mp.patches.Patch(color='red',label='well',ec='black'), \n",
    "                   mp.patches.Patch(color='yellow',label='Waste_Water & ET/Rechzone',ec='black')],\n",
    "                   bbox_to_anchor=(1.5,1.0))\n",
    "\n",
    "plt.show(modelmap)"
   ]
  },
  {
   "cell_type": "code",
   "execution_count": 11,
   "metadata": {},
   "outputs": [
    {
     "data": {
      "image/png": "[encoded data removed]",
      "text/plain": [
       "<Figure size 1080x360 with 2 Axes>"
      ]
     },
     "metadata": {
      "needs_background": "light"
     },
     "output_type": "display_data"
    }
   ],
   "source": [
    "\n",
    "\n",
    "\n",
    "#### 3 layered model \n",
    "fig = plt.figure(figsize=(15, 5))\n",
    "ax = fig.add_subplot(1, 1, 1)\n",
    "\n",
    "xsect = flopy.plot.PlotCrossSection(model=m3, line={'row': 24}) #note use the key 'column' if you want to plot a column instaed\n",
    "pc = xsect.plot_array(head3, masked_values=[999.], head=head3, alpha=0.5)\n",
    "patches = xsect.plot_ibound(head=head3)\n",
    "#patches = xsect.plot_ibound(color_noflow='red', color_ch='blue')\n",
    "#patches = xsect.plot_bc('WEL', color='red')\n",
    "linecollection = xsect.plot_grid(color='black', lw=0.5)\n",
    "t = ax.set_title('3 Layer Model Row 25 Cross-Section')\n",
    "cb = plt.colorbar(pc, shrink=0.75)\n",
    "#Overlay the head in a layer of the model- in this case I'm doing the top layer i.e. head3[0,:,:]\n",
    "wt = xsect.plot_surface(head3[0,:,:], masked_values=[999.], color='blue', lw=1)\n"
   ]
  },
  {
   "cell_type": "markdown",
   "metadata": {},
   "source": [
    "### Plot particle pathlines"
   ]
  },
  {
   "cell_type": "markdown",
   "metadata": {},
   "source": [
    "###  1 Layer Head Contours"
   ]
  },
  {
   "cell_type": "markdown",
   "metadata": {},
   "source": [
    "### 3 Layer head contours"
   ]
  },
  {
   "cell_type": "code",
   "execution_count": 12,
   "metadata": {},
   "outputs": [
    {
     "name": "stdout",
     "output_type": "stream",
     "text": [
      "ET Scenario\n",
      "Total Reacharge 30000.0\n",
      "Total ET -6929.9526\n"
     ]
    }
   ],
   "source": [
    "print(\"ET Scenario\")\n",
    "print(\"Total Reacharge\", np.sum(recharge3[0][1]))\n",
    "print(\"Total ET\", np.sum(et3[0][1])) \n"
   ]
  }
 ],
 "metadata": {
  "kernelspec": {
   "display_name": "Python 3",
   "language": "python",
   "name": "python3"
  },
  "language_info": {
   "codemirror_mode": {
    "name": "ipython",
    "version": 3
   },
   "file_extension": ".py",
   "mimetype": "text/x-python",
   "name": "python",
   "nbconvert_exporter": "python",
   "pygments_lexer": "ipython3",
   "version": "3.8.1"
  }
 },
 "nbformat": 4,
 "nbformat_minor": 2
}
