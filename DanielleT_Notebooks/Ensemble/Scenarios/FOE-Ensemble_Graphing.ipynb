{
 "cells": [
  {
   "cell_type": "markdown",
   "metadata": {},
   "source": [
    "# Aquaseca basic domain\n",
    "## Model Description before GroMore proposal \n",
    "This is a steady state box model with recharge and ET. An additional layer was also added to the model.\n",
    "\n",
    "#### Dimensions: \n",
    "- 50 by 50 by 1\n",
    "- dx = dy = 1000 m\n",
    "- dz = varied \n",
    "- three layers\n",
    "\n",
    "#### Topography\n",
    "- Top layer elevation given in csv file\n",
    "- Middle layer is flat and 5m thick\n",
    "- Bottom layer (Layer 3) is flat and 40m thick\n",
    "\n",
    "#### Subsurface Properties: \n",
    "- Porosity = 0.1\n",
    "- Specific yield = 0.1\n",
    "- Storage coefficient=0.0001 \n",
    "- Homogeneous in each layer\n",
    "##### Layers\n",
    " - Layer 1 = Layer 3\n",
    "     - Kx=Ky=Kz= 10m/d\n",
    " - Layer 2 \n",
    "     - 20 leftmost columns, Kx=Ky=Kz= 10m/d\n",
    "     - Other columns, Kz= 0.0001m/d\n",
    "\n",
    "#### Boundary Conditions: \n",
    " - Right boundary is a constant head of 70 m relative to datum for all layers (datum is at bottom of domain)\n",
    " - All other boundaries are no flow\n",
    " - Top left corner: no flow\n",
    "     - Extends from row 45, column 1 to row 50, column 6, inclusive, comprising a total of 21 no flow cells\n",
    " - A symmetric no flow region exists in the bottom left corner\n",
    "     - row 41, column 1 to row 50, column 10.\n",
    " - Middle layer has no flow regions\n",
    "     - Extends from row 43, column 1 to row 50, column 8 \n",
    " \n",
    "#### ET: \n",
    "- Zero in left half\n",
    "- 1E-5 m/day in the right half of the domain\n",
    "- Riparian zone\n",
    "    - Extends from left to right boundary of rows 23 to 29, inclusive\n",
    "    - Rate: 5E-5m/d\n",
    "- Extinction depth= 10m\n",
    " \n",
    "#### Recharge: \n",
    " - Leftmost 15 columns at a rate of 4E-5 m/d\n",
    " - Zero everywhere else\n",
    "\n",
    "#### Stream:\n",
    "- Begins in left boundary and goes to the right in row 26\n",
    "- width=length=thickness= 1.0\n",
    "- No flow is entering the stream\n",
    "- streambed\n",
    "    - K= 1000m/d\n",
    "    - elevation= 1.0m below ground surface\n",
    "    - stage= 0.5m\n",
    "- \"weak sink\" with strength 0.5 (This is set under MODPATH/Particle Options.)\n",
    " \n",
    "#### Well: \n",
    " - Pumping well for Aquaseca\n",
    "     - Completed in bottom layer\n",
    "     - Located at row 21, column 38\n",
    "     - Pumping at a rate of 1500 m^3/day \n",
    "\n",
    "## Model Description after GroMore proposal \n",
    "\n",
    "#### Ag field:\n",
    "- cover a 2000m by 2000m area\n",
    "- 1/8th of the area will be irrigated agriculture at any time (the field area is multiplied by 0.125). \n",
    "- Rectangular irrigated fields extend between rows 21 and 22 (inclusive) and columns 19 and 20 (inclusive).\n",
    "\n",
    "##### ET\n",
    "- ET for the crop is zero - it is accounted for in the calculated recharge \n",
    "\n",
    "##### Recharge\n",
    "- Rate is 20% of the water demand of the crop, representing intentional excess irrigation to avoid soil salinization\n",
    "- Crop water uses/recharge rates:\n",
    "    - Wheat= 0.004m/d / 0.0001m/d\n",
    "    - Pistachios= 0.006m/d / 0.00015m/d\n",
    "    - Cotton: 0.008 m/d / 0.0002 m/d\n",
    "    \n",
    "##### Pumping Well:\n",
    "- Completed in top layer\n",
    "- Row 12 and column 14\n",
    "- Pumping rate equal to the crop water demand plus 20% for excess irrigation plus 30% for irrigation inefficiency\n",
    "    - Wheat= 3000 m3/day\n",
    "    - Pistachos= 4500 m3/d\n",
    "    - Cotton= 6000 m3/d\n",
    "    \n",
    "##### Monitoring wells\n",
    "- Two monitoring in transient conditions\n",
    "    - One at [25000, 25000] \n",
    "    - Other at [12500, 12500].\n",
    "\n",
    "*For simplicity, we will consider a year to be comprised of 12 30-day months."
   ]
  },
  {
   "cell_type": "markdown",
   "metadata": {},
   "source": [
    "## 0. Inputs"
   ]
  },
  {
   "cell_type": "code",
   "execution_count": 80,
   "metadata": {},
   "outputs": [
    {
     "name": "stdout",
     "output_type": "stream",
     "text": [
      "[1, 0, 1, 1, 0, 0, 0]\n",
      "[25, 1e-06, 0.1, 3e-05, 1e-06, 1, 0.01]\n"
     ]
    }
   ],
   "source": [
    "All_inputs = {'Kxyz': [5, 25, 100],\n",
    "              'Kz:low': [1e-6, 1e-2, 1],\n",
    "              'Sy': [0.05, 0.1, 0.3],\n",
    "              'rech_mount': [1e-5, 3e-5, 5e-5],\n",
    "              'ET_val': [1e-6, 1e-5, 1e-4],\n",
    "              'ET:rip': [1, 2, 3],\n",
    "              'K:streambed': [1e-2, 1e-1, 1]}\n",
    "\n",
    "variable = ['Kxyz', 'Kz:low', 'Sy', 'rech_mount', 'ET_val', 'ET:rip', 'K:streambed']\n",
    "\n",
    "# print(All_inputs)\n",
    "# print(All_inputs.keys())\n",
    "# print(All_inputs['K:streambed'][0])\n",
    "\n",
    "#Which Model would you like to run?\n",
    "model_num = 2122111\n",
    "controls = [int(i) for i in str(model_num)]\n",
    "for i in range(len(controls)):\n",
    "    controls[i] = controls[i] - 1\n",
    "\n",
    "print(controls)\n",
    "# print(controls[2])\n",
    "# print(len(controls))\n",
    "\n",
    "inputs = []\n",
    "for i in range(len(controls)):\n",
    "    k = All_inputs[variable[i]][controls[i]]\n",
    "    inputs.append(k)\n",
    "    \n",
    "print(inputs)\n",
    "# print(inputs[2])"
   ]
  },
  {
   "cell_type": "markdown",
   "metadata": {},
   "source": [
    "## 1. Import packages"
   ]
  },
  {
   "cell_type": "code",
   "execution_count": 81,
   "metadata": {},
   "outputs": [],
   "source": [
    "#import packages\n",
    "import flopy\n",
    "import numpy as np\n",
    "import matplotlib.pyplot as plt\n",
    "import matplotlib as mp\n",
    "import pandas as pd\n",
    "import numpy as np\n",
    "import os\n",
    "import csv\n",
    "\n",
    "#additional analysis tools\n",
    "import flopy.utils.binaryfile as bf\n",
    "from mpl_toolkits.mplot3d import Axes3D\n",
    "from matplotlib import cm\n",
    "from matplotlib.ticker import LinearLocator, FormatStrFormatter\n",
    "np.set_printoptions(threshold=np.inf)\n",
    "\n",
    "#jupyter specific--included to show plots in notebook\n",
    "%matplotlib inline"
   ]
  },
  {
   "cell_type": "markdown",
   "metadata": {},
   "source": [
    "## 2. Discretization and other inputs"
   ]
  },
  {
   "cell_type": "code",
   "execution_count": 82,
   "metadata": {},
   "outputs": [
    {
     "name": "stdout",
     "output_type": "stream",
     "text": [
      "recharge location(col, row) (0.0, 0.0) (14.0, 50.0)\n",
      "well1 location(layer, col, row) 29.0 37.0\n",
      "well2 location(layer, col, row) 25.0 24.0\n",
      "well3 location(layer, col, row) 37.0 12.0\n",
      "well4 location(layer, col, row) 38.0 12.0\n"
     ]
    }
   ],
   "source": [
    "# Discretization\n",
    "nrow = 50 #number of rows\n",
    "ncol = 50 #number of columns\n",
    "nlay = 3  #number of layers\n",
    "\n",
    "dx= 1000 #width of grid cells in x direction \n",
    "dy= 1000 #width of grid cells in y direction \n",
    "Lx = ncol*dx  #width of domain in x\n",
    "Ly = nrow*dy #width of domain in y\n",
    "\n",
    "#ztop = 100\n",
    "ztop = np.genfromtxt('base_model_elevs.csv', delimiter=',', dtype=float)   # top elevation of top layer (import from csv file) (dim: nrow,ncol)\n",
    "#print(type(ztop))\n",
    "#print(ztop.shape)\n",
    "#print(ztop[0,:])\n",
    "zbot = 0.     #bottom elevation\n",
    "\n",
    "\n",
    "## Subsurface properties\n",
    "n = 0.1        #assign porosity\n",
    "Ss = 0.0001      #assign storage coefficient\n",
    "# Sy = 0.1        #assign specific yield\n",
    "Sy = inputs[2]     #assign specific yield\n",
    "uncnf = 1       #0=confined, >0 = unconfined\n",
    "\n",
    "## ET\n",
    "# ET = 1e-5 #m/day\n",
    "ET = inputs[4] #m/day\n",
    "ET_locxy =[[24000,0], [0, 0]] #lower left and upper right corners of ET in xy coordinate\n",
    "# rip_ET= 5e-5  #riparian zone\n",
    "rip_ET = ET*inputs[5]  #riparian zone\n",
    "rip_locxy = [[0,21000],[23000,0]]\n",
    "extinction_depth = 10 #m\n",
    "#print(ET_locxy)\n",
    "#print(rip_loc)\n",
    "\n",
    "# ET_rows=(np.floor(nrow-ET_locxy[1][1]/dy),np.floor(nrow-ET_locxy[0][1]/dy)) #convert the y locations to rows\n",
    "# ET_cols=(np.floor(ET_locxy[0][0]/dx),np.floor(ET_locxy[1][0]/dx)) #convert the y locations to rows\n",
    "\n",
    "# ET_rows2=(np.floor(nrow-ET_locxy[1][1]/dy),np.floor(nrow-ET_locxy[0][1]/dy)) #convert the y locations to rows\n",
    "# ET_cols2=(np.floor(ET_locxy[0][0]/dx),np.floor(ET_locxy[1][0]/dx))\n",
    "\n",
    "ET_rows_forced=(1.0, 49.0) #me forcing the et_rows to be 0-50\n",
    "ET_cols_forced = (26.0, 49.0)\n",
    "\n",
    "ET_zone = np.zeros((1,nrow,ncol))     # define an array of zeroes the size of the model grid\n",
    "ET_zone[0,int(ET_rows_forced[0]):int(ET_rows_forced[1]), int(ET_cols_forced[0]):int(ET_cols_forced[1])] = ET/2\n",
    "#print(\"ET location(col, row)\", ET_cols,ET_rows)\n",
    "#print(\"ETrows_forced:\", ET_rows_forced)\n",
    "#print(\"ETrows:\", ET_rows)\n",
    "#print(\"ETcols:\", ET_cols)\n",
    "#print(\"ETrows2:\", ET_rows2)\n",
    "#print(\"ETcols2:\", ET_cols2)\n",
    "\n",
    "rip_rows_forced = (21.0, 28.0)  #forced riparian area\n",
    "rip_cols_forced = (1.0, 49.0)\n",
    "\n",
    "\n",
    "# rip_rows=(np.floor(nrow-rip_locxy[1][1]/dy),np.floor(nrow-rip_locxy[0][1]/dy)) #convert the y locations to rows\n",
    "# rip_cols=(np.floor(rip_locxy[0][0]/dx),np.floor(rip_locxy[1][0]/dx)) #convert the y locations to rows\n",
    "rip_zone = np.zeros((nlay,nrow,ncol))     # define an array of zeroes the size of the model grid\n",
    "ET_zone[0,int(rip_rows_forced[0]):int(rip_rows_forced[1]), int(rip_cols_forced[0]):int(rip_cols_forced[1])] = rip_ET/2 \n",
    "#print(\"Riparian location(col, row)\", rip_cols,rip_rows)\n",
    "\n",
    "## Recharge\n",
    "# rech=4e-5  #m/d\n",
    "rech = inputs[3]  #m/d\n",
    "rechxy=[(0,0),(0,36000)]  #recharge zone\n",
    "\n",
    "rech_rows_forced = (1.0, 49.0) #rech zone forced for leftmost 15 cols\n",
    "rech_cols_forced = (1.0, 15.0)\n",
    "\n",
    "agrech_rows_forced = (28.0, 30.0) #rech zone forced for leftmost 15 cols\n",
    "agrech_cols_forced = (18.0, 20.0)\n",
    "agrech = 0.00015  #pistachios (1/8th area already included)\n",
    "\n",
    "rech_zone_forced = np.zeros((1, nrow,ncol))\n",
    "rech_zone_forced[0, int(rech_rows_forced[0]):int(rech_rows_forced[1]),int(rech_cols_forced[0]):int(rech_cols_forced[1])]=rech\n",
    "rech_zone_forced[0, int(agrech_rows_forced[0]):int(agrech_rows_forced[1]),int(agrech_cols_forced[0]):int(agrech_cols_forced[1])]=agrech\n",
    "\n",
    "rech_rows=(np.floor(nrow-rechxy[1][1]/dy),np.floor(nrow-rechxy[0][1]/dy))\n",
    "rech_cols=(np.floor(rechxy[0][0]/dx),np.floor(rechxy[1][0]/dx))\n",
    "#rech_zone=np.zeros(1,nrow,ncol)\n",
    "#rech_zone[0,int(rech_rows[0]):int(rech_rows[1]),int(rech_cols[0]):int(rech_cols[1])]=rech\n",
    "print(\"recharge location(col, row)\", rech_cols,rech_rows)\n",
    "\n",
    "#supply well\n",
    "pumping = 0 #m3/day \n",
    "well_xy= [38000, 29000] #xy location of well \n",
    "well_row = np.floor((nrow)-(well_xy[1]/dy)) #convert the y location to a row\n",
    "well_col=np.floor(well_xy[0]/dx) #convert the x location to a column\n",
    "well_row = 29.\n",
    "well_col = 37.\n",
    "well_loc = (0,well_row, well_col)\n",
    "well = [2,well_row, well_col, pumping] #Well loc shoudl be layer, row, column\n",
    "print(\"well1 location(layer, col, row)\", well_row, well_col)\n",
    "\n",
    "\n",
    "#MW1\n",
    "pumping2 = 0 #m3/day \n",
    "well2_xy= [25000, 25000] #xy location of well \n",
    "well2_row = np.floor((nrow)-(well2_xy[1]/dy)) #convert the y location to a row\n",
    "well2_col=np.floor(well2_xy[0]/dx)-1 #convert the x location to a column\n",
    "well2_loc = (0,well2_row, well2_col)\n",
    "well2 = [0,well2_row, well2_col, pumping2] #Well loc shoudl be layer, row, column\n",
    "print(\"well2 location(layer, col, row)\", well2_row, well2_col)\n",
    "\n",
    "#MW2\n",
    "pumping3 = 0 #m3/day \n",
    "well3_xy= [12500, 12500] #xy location of well \n",
    "well3_row = np.floor((nrow)-(well3_xy[1]/dy)) #convert the y location to a row\n",
    "well3_col=np.floor(well3_xy[0]/dx) #convert the x location to a column\n",
    "well3_loc = (0,well3_row, well3_col)\n",
    "well3 = [0,well3_row, well3_col, pumping3] \n",
    "print(\"well3 location(layer, col, row)\", well3_row, well3_col)\n",
    "\n",
    "\n",
    "#irrigation well\n",
    "pumping4 = -4500 #m3/day \n",
    "well4_row = 38.\n",
    "well4_col = 12. \n",
    "well4_loc = (0,well4_row, well4_col)\n",
    "well4 = [0,well4_row, well4_col, pumping4] \n",
    "print(\"well4 location(layer, col, row)\", well4_row, well4_col)\n",
    "\n",
    "#wel_spd = {0: [well, well2, well3, well4]}\n",
    "#print(len(wel_spd))\n",
    "\n",
    "## Boundary conditions\n",
    "h_right = 70\n",
    "\n",
    "\n",
    "## Timing\n",
    "# nper = 1 #number of stress periods \n",
    "# steady = [True] #list noting the stress period type\n"
   ]
  },
  {
   "cell_type": "markdown",
   "metadata": {},
   "source": [
    "### Boundary Conditions"
   ]
  },
  {
   "cell_type": "code",
   "execution_count": 83,
   "metadata": {},
   "outputs": [
    {
     "name": "stdout",
     "output_type": "stream",
     "text": [
      "/Users/danielletadych/Documents/SPRING2020/GroundwaterModelling_HWRS582/FoE_Project/DanielleT_Notebooks/Ensemble/Scenarios\n",
      "[-999.99     -999.99     -999.99     -999.99     -999.99     -999.99\n",
      " -999.99     -999.99     -999.99       94.33437    94.39355    94.47525\n",
      "   94.57754    94.701515   94.85003    95.02739    95.23945    95.493935\n",
      "   95.80113    96.174774   96.633606   97.20508    97.956825   98.984566\n",
      "  100.48695    98.967804   97.93231    97.18007    96.61454    96.159325\n",
      "   95.78827    95.48319    95.23054    95.020004   94.84372    94.69568\n",
      "   94.57132    94.467255   94.38125    94.31262    94.263374 -999.99\n",
      " -999.99     -999.99     -999.99     -999.99     -999.99     -999.99\n",
      " -999.99     -999.99    ]\n"
     ]
    }
   ],
   "source": [
    "#read in burn-in head values\n",
    "print(os.getcwd())\n",
    "H_init = np.ones((nlay, nrow, ncol), dtype=np.float32) \n",
    "H_init[0,:,:] = np.loadtxt('postdev_toplayer_h_init.csv', delimiter=\",\")\n",
    "H_init[1,:,:] = np.loadtxt('postdev_midlayer_h_init.csv', delimiter=\",\")\n",
    "H_init[2,:,:] = np.loadtxt('postdev_botlayer_h_init.csv', delimiter=\",\")\n",
    "print(H_init[2,:,1])\n",
    "\n",
    "# H_init = np.ones((nlay, nrow, ncol), dtype=np.float32)  #float array (i.e. decimal), sets all heads to 1.0\n",
    "# H_init[:, :, :] = h_right  #initialize the entire domain to the right head value\n",
    "# H_init[:, :, 49] = h_right    #replace first (right) col with desired head value\n",
    "\n",
    "#Define cell activity (IBOUND)\n",
    "ibound=np.ones((nlay,nrow,ncol))                                                  \n",
    "ibound[:,:,0] = 0  #1st col = no flow       \n",
    "ibound[:,:,49] = -1  #last col = constant head \n",
    "\n",
    "ibound[:,0,:49]=0\n",
    "ibound[:,49,:49]=0\n",
    "ibound[:,1,:5]=0\n",
    "ibound[:,2,:4]=0\n",
    "ibound[:,3,:3]=0\n",
    "ibound[:,4,:2]=0\n",
    "\n",
    "ibound[:,48,:5]=0\n",
    "ibound[:,47,:4]=0\n",
    "ibound[:,46,:3]=0\n",
    "ibound[:,45,:2]=0\n",
    "\n",
    "ibound[1:,1,:7]=0\n",
    "ibound[1:,2,:6]=0\n",
    "ibound[1:,3,:5]=0\n",
    "ibound[1:,4,:4]=0\n",
    "ibound[1:,5,:3]=0\n",
    "ibound[1:,6,1]=0\n",
    "\n",
    "ibound[1:,48,:7]=0\n",
    "ibound[1:,47,:6]=0\n",
    "ibound[1:,46,:5]=0\n",
    "ibound[1:,45,:4]=0\n",
    "ibound[1:,44,:3]=0\n",
    "ibound[1:,43,1]=0\n",
    "\n",
    "ibound[2,1,:9]=0\n",
    "ibound[2,2,:8]=0\n",
    "ibound[2,3,:7]=0\n",
    "ibound[2,4,:6]=0\n",
    "ibound[2,5,:5]=0\n",
    "ibound[2,6,:4]=0\n",
    "ibound[2,7,:3]=0\n",
    "ibound[2,8,1]=0\n",
    "\n",
    "ibound[2,48,:9]=0\n",
    "ibound[2,47,:8]=0\n",
    "ibound[2,46,:7]=0\n",
    "ibound[2,45,:6]=0\n",
    "ibound[2,44,:5]=0\n",
    "ibound[2,43,:4]=0\n",
    "ibound[2,42,:3]=0\n",
    "ibound[2,41,1]=0\n"
   ]
  },
  {
   "cell_type": "markdown",
   "metadata": {},
   "source": [
    "### Seasons and Stressperiods"
   ]
  },
  {
   "cell_type": "code",
   "execution_count": 84,
   "metadata": {},
   "outputs": [],
   "source": [
    "sp_peryr = 1   #number of seasons (with and wihtout ET. April-Sept and Oct-Mar)\n",
    "sp1_len = 360  #sp lengths\n",
    "sim_years = 100\n",
    "nper = int(sp_peryr*sim_years)\n",
    "\n",
    "#setup the steady state array\n",
    "steady = np.ones(nper, dtype=bool)*False     # steady-state or transient flag for each stress period (boolean array)\n",
    "#print(steady)\n",
    "# steady[0] = True    # initial stress period is steady-state\n",
    "\n",
    "#make an array of period lengths\n",
    "perlen=np.tile([sp1_len],sim_years)\n",
    "#perlen=np.append(10,perlen) #add a period of length 10 at the start for the steady state simulation\n",
    "#print(\"Period lengths\", perlen)\n",
    "\n",
    "#make an nstp array for the # of time steps to solve within each period in this case we will do daily \n",
    "#so we can repeat the perlen array\n",
    "nstp=perlen/360 #30 for monthly\n",
    "#nstp[0]=1 #for the steady state solution we just want one output\n",
    "nstp = nstp.astype(int)\n",
    "#print(\"Number of Steps\", nstp)\n",
    "\n",
    "\n",
    "\n",
    "## Boundary conditions\n",
    "h_right = 70\n"
   ]
  },
  {
   "cell_type": "markdown",
   "metadata": {},
   "source": [
    "### Set up varying ET & Pumping"
   ]
  },
  {
   "cell_type": "code",
   "execution_count": 85,
   "metadata": {},
   "outputs": [],
   "source": [
    "                      \n",
    "# ET_dict = {} #set up an ET dictionary, where each key is a stress period num 0-50\n",
    "# ET_zone2 = ET_zone * 0 \n",
    "# # for p in range(0,nper):    #loop over stress periods, odds are 0 ET, evens are reg ET\n",
    "# #     if p == 0:\n",
    "# #         ET_dict[p] = ET_zone\n",
    "# #     elif int(p % 2) != 0:\n",
    "# #         ET_dict[p]=ET_zone2\n",
    "# #         #print(p)\n",
    "# #     else: \n",
    "# #         ET_dict[p] = ET_zone\n",
    "\n",
    "# #No steady state test\n",
    "# for p in range(0,nper):    #loop over stress periods, odds are 0 ET, evens are reg ET\n",
    "#     if p == 0:\n",
    "#         ET_dict[p] = ET_zone2\n",
    "#     elif int(p % 2) != 0:\n",
    "#         ET_dict[p]=ET_zone\n",
    "#         #print(p)\n",
    "#     else: \n",
    "#         ET_dict[p] = ET_zone2\n",
    "\n",
    "\n",
    "#WELL STRESS PERIODS\n",
    "#init_well = [well, well2, well3, well4]\n",
    "#\n",
    "wel_spd = {}    \n",
    "    \n",
    "burn = 0 #0 because of the head file read in\n",
    "decade = 1\n",
    "decade2 = 10 #to calculate pumping after 100 year pumping\n",
    "pump = 47\n",
    "\n",
    "for strper in range(0, nper):\n",
    "    if strper < burn:\n",
    "        pumping = 0\n",
    "        wel_spd[strper] = [[2,well_row, well_col, pumping], [0, well4_row, well4_col, pumping4]]\n",
    "    elif strper < (burn+decade*10): # 20 for 2 stress periods per 10 years\n",
    "        pumping = round(pump * (decade2**1.5)) *-1\n",
    "        wel_spd[strper] =  [[2,well_row, well_col, pumping], [0, well4_row, well4_col, pumping4]]\n",
    "    else:\n",
    "        decade = decade + 1   \n",
    "        decade2 = decade2 +1\n",
    "        pumping = round(pump * (decade2**1.5)) *-1\n",
    "        wel_spd[strper] =  [[2,well_row, well_col, pumping], [0, well4_row, well4_col, pumping4]]\n",
    "    \n",
    "#print(wel_spd)\n"
   ]
  },
  {
   "cell_type": "markdown",
   "metadata": {},
   "source": [
    "### Layering"
   ]
  },
  {
   "cell_type": "code",
   "execution_count": 86,
   "metadata": {},
   "outputs": [],
   "source": [
    "## define layer properties \n",
    "# K_horiz = 10 #m/d\n",
    "# K_vert = 10 #m/d\n",
    "# K_vert2 = 0.0001 #m/d  #K for the middle layer\n",
    "\n",
    "## defining layer properties \n",
    "K_horiz = inputs[0] #m/d\n",
    "K_vert = inputs[0] #m/d\n",
    "K_vert2 = 0.0001*inputs[1] #m/d  #K for the middle layer\n",
    "\n",
    "\n",
    "## make horizontal K np arrays\n",
    "Kh = np.zeros((nlay,nrow,ncol))     # define an array of zeros the size of the model grid (nlay, nrow, ncol)\n",
    "Kh[:,:,:] = K_horiz # assign the original value to the entire array\n",
    "\n",
    "## Make a arrays for the K values\n",
    "Kz = np.zeros((nlay,nrow,ncol))     # define an array of zeros the size of the model grid (nlay, nrow, ncol)\n",
    "Kz[:,:,:] = K_vert                   # assign the original value to the entire array\n",
    "Kz[1,:,20:49] = K_vert2            #Replace K in the middle layer with the lower value\n",
    "#Kz[1,:,:] = K_vert2\n",
    "#print(K_horiz)\n",
    "#print(Kz)\n",
    "\n",
    "## Make some changes to the parameters\n",
    "bot_elev = 0.\n",
    "mid_elev = 40.\n",
    "top_elev = 45.\n",
    "\n",
    "botm = np.zeros((nlay,nrow,ncol)) # initialize array of zeros for bottom elevation for each model cell (dim: nlay,nrow,ncol)\n",
    "botm[2,:,:] = bot_elev                 # bottom elevation of lowest layer (2) is 0 m\n",
    "botm[1,:,:] = mid_elev                 # bottom elevation of middle layer (1) is 40 m           \n",
    "botm[0,:,:] = top_elev                 # bottom elevation of top layer (0) 45\n"
   ]
  },
  {
   "cell_type": "markdown",
   "metadata": {},
   "source": [
    "### Stream"
   ]
  },
  {
   "cell_type": "code",
   "execution_count": 87,
   "metadata": {},
   "outputs": [],
   "source": [
    "#DEFINE RIVERS\n",
    "riv_row= 24\n",
    "riv_sp = [] #create list to store all river cells for stress period 1\n",
    "k_streambed_baseline = 1000 #river bottom hydraulic conductivity in m/d\n",
    "# k_rivbott = 1000 #river bottom hydraulic conductivity in m/d\n",
    "k_rivbott = 1000*inputs[6] #river bottom hydraulic conductivity in m/d\n",
    "sed_thick = 1 #thickness of riverbed sediment in m\n",
    "cond = k_rivbott*(1)*(1000)/(sed_thick) #river bed conductance in m^2/d\n",
    "r_stage = .5 #stage in river (stress period 1)\n",
    "r_bott = ztop[riv_row,:] #river bottom\n",
    "#print(r_bott)\n",
    "for i in range(1,ncol):\n",
    "    riv_sp.append([0, riv_row, i, r_bott[i]-1+sed_thick+r_stage, cond, r_bott[i]-2])\n",
    "    \n",
    "#print(riv_spd)\n",
    "#create dictionary of stress period data\n",
    "riv_spd = {0: riv_sp}\n",
    "#print(riv_spd)\n"
   ]
  },
  {
   "cell_type": "markdown",
   "metadata": {},
   "source": [
    "## 3. Run Modflow"
   ]
  },
  {
   "cell_type": "code",
   "execution_count": 88,
   "metadata": {
    "scrolled": true
   },
   "outputs": [
    {
     "name": "stdout",
     "output_type": "stream",
     "text": [
      "FloPy is using the following  executable to run the model: /Applications/MODFLOW/mf2005\n",
      "\n",
      "                                  MODFLOW-2005     \n",
      "    U.S. GEOLOGICAL SURVEY MODULAR FINITE-DIFFERENCE GROUND-WATER FLOW MODEL\n",
      "                             Version 1.12.00 2/3/2017                        \n",
      "\n",
      " Using NAME file: Ensemble_Testing_2122111.nam \n",
      " Run start date and time (yyyy/mm/dd hh:mm:ss): 2020/04/30 11:30:44\n",
      "\n",
      " Solving:  Stress period:     1    Time step:     1    Ground-Water Flow Eqn.\n",
      " Solving:  Stress period:     2    Time step:     1    Ground-Water Flow Eqn.\n",
      " Solving:  Stress period:     3    Time step:     1    Ground-Water Flow Eqn.\n",
      " Solving:  Stress period:     4    Time step:     1    Ground-Water Flow Eqn.\n",
      " Solving:  Stress period:     5    Time step:     1    Ground-Water Flow Eqn.\n",
      " Solving:  Stress period:     6    Time step:     1    Ground-Water Flow Eqn.\n",
      " Solving:  Stress period:     7    Time step:     1    Ground-Water Flow Eqn.\n",
      " Solving:  Stress period:     8    Time step:     1    Ground-Water Flow Eqn.\n",
      " Solving:  Stress period:     9    Time step:     1    Ground-Water Flow Eqn.\n",
      " Solving:  Stress period:    10    Time step:     1    Ground-Water Flow Eqn.\n",
      " Solving:  Stress period:    11    Time step:     1    Ground-Water Flow Eqn.\n",
      " Solving:  Stress period:    12    Time step:     1    Ground-Water Flow Eqn.\n",
      " Solving:  Stress period:    13    Time step:     1    Ground-Water Flow Eqn.\n",
      " Solving:  Stress period:    14    Time step:     1    Ground-Water Flow Eqn.\n",
      " Solving:  Stress period:    15    Time step:     1    Ground-Water Flow Eqn.\n",
      " Solving:  Stress period:    16    Time step:     1    Ground-Water Flow Eqn.\n",
      " Solving:  Stress period:    17    Time step:     1    Ground-Water Flow Eqn.\n",
      " Solving:  Stress period:    18    Time step:     1    Ground-Water Flow Eqn.\n",
      " Solving:  Stress period:    19    Time step:     1    Ground-Water Flow Eqn.\n",
      " Solving:  Stress period:    20    Time step:     1    Ground-Water Flow Eqn.\n",
      " Solving:  Stress period:    21    Time step:     1    Ground-Water Flow Eqn.\n",
      " Solving:  Stress period:    22    Time step:     1    Ground-Water Flow Eqn.\n",
      " Solving:  Stress period:    23    Time step:     1    Ground-Water Flow Eqn.\n",
      " Solving:  Stress period:    24    Time step:     1    Ground-Water Flow Eqn.\n",
      " Solving:  Stress period:    25    Time step:     1    Ground-Water Flow Eqn.\n",
      " Solving:  Stress period:    26    Time step:     1    Ground-Water Flow Eqn.\n",
      " Solving:  Stress period:    27    Time step:     1    Ground-Water Flow Eqn.\n",
      " Solving:  Stress period:    28    Time step:     1    Ground-Water Flow Eqn.\n",
      " Solving:  Stress period:    29    Time step:     1    Ground-Water Flow Eqn.\n",
      " Solving:  Stress period:    30    Time step:     1    Ground-Water Flow Eqn.\n",
      " Solving:  Stress period:    31    Time step:     1    Ground-Water Flow Eqn.\n",
      " Solving:  Stress period:    32    Time step:     1    Ground-Water Flow Eqn.\n",
      " Solving:  Stress period:    33    Time step:     1    Ground-Water Flow Eqn.\n",
      " Solving:  Stress period:    34    Time step:     1    Ground-Water Flow Eqn.\n",
      " Solving:  Stress period:    35    Time step:     1    Ground-Water Flow Eqn.\n",
      " Solving:  Stress period:    36    Time step:     1    Ground-Water Flow Eqn.\n",
      " Solving:  Stress period:    37    Time step:     1    Ground-Water Flow Eqn.\n",
      " Solving:  Stress period:    38    Time step:     1    Ground-Water Flow Eqn.\n",
      " Solving:  Stress period:    39    Time step:     1    Ground-Water Flow Eqn.\n",
      " Solving:  Stress period:    40    Time step:     1    Ground-Water Flow Eqn.\n",
      " Solving:  Stress period:    41    Time step:     1    Ground-Water Flow Eqn.\n",
      " Solving:  Stress period:    42    Time step:     1    Ground-Water Flow Eqn.\n",
      " Solving:  Stress period:    43    Time step:     1    Ground-Water Flow Eqn.\n",
      " Solving:  Stress period:    44    Time step:     1    Ground-Water Flow Eqn.\n",
      " Solving:  Stress period:    45    Time step:     1    Ground-Water Flow Eqn.\n",
      " Solving:  Stress period:    46    Time step:     1    Ground-Water Flow Eqn.\n",
      " Solving:  Stress period:    47    Time step:     1    Ground-Water Flow Eqn.\n",
      " Solving:  Stress period:    48    Time step:     1    Ground-Water Flow Eqn.\n",
      " Solving:  Stress period:    49    Time step:     1    Ground-Water Flow Eqn.\n",
      " Solving:  Stress period:    50    Time step:     1    Ground-Water Flow Eqn.\n",
      " Solving:  Stress period:    51    Time step:     1    Ground-Water Flow Eqn.\n",
      " Solving:  Stress period:    52    Time step:     1    Ground-Water Flow Eqn.\n",
      " Solving:  Stress period:    53    Time step:     1    Ground-Water Flow Eqn.\n",
      " Solving:  Stress period:    54    Time step:     1    Ground-Water Flow Eqn.\n",
      " Solving:  Stress period:    55    Time step:     1    Ground-Water Flow Eqn.\n",
      " Solving:  Stress period:    56    Time step:     1    Ground-Water Flow Eqn.\n",
      " Solving:  Stress period:    57    Time step:     1    Ground-Water Flow Eqn.\n",
      " Solving:  Stress period:    58    Time step:     1    Ground-Water Flow Eqn.\n",
      " Solving:  Stress period:    59    Time step:     1    Ground-Water Flow Eqn.\n",
      " Solving:  Stress period:    60    Time step:     1    Ground-Water Flow Eqn.\n",
      " Solving:  Stress period:    61    Time step:     1    Ground-Water Flow Eqn.\n",
      " Solving:  Stress period:    62    Time step:     1    Ground-Water Flow Eqn.\n",
      " Solving:  Stress period:    63    Time step:     1    Ground-Water Flow Eqn.\n",
      " Solving:  Stress period:    64    Time step:     1    Ground-Water Flow Eqn.\n",
      " Solving:  Stress period:    65    Time step:     1    Ground-Water Flow Eqn.\n",
      " Solving:  Stress period:    66    Time step:     1    Ground-Water Flow Eqn.\n",
      " Solving:  Stress period:    67    Time step:     1    Ground-Water Flow Eqn.\n",
      " Solving:  Stress period:    68    Time step:     1    Ground-Water Flow Eqn.\n",
      " Solving:  Stress period:    69    Time step:     1    Ground-Water Flow Eqn.\n",
      " Solving:  Stress period:    70    Time step:     1    Ground-Water Flow Eqn.\n",
      " Solving:  Stress period:    71    Time step:     1    Ground-Water Flow Eqn.\n",
      " Solving:  Stress period:    72    Time step:     1    Ground-Water Flow Eqn.\n",
      " Solving:  Stress period:    73    Time step:     1    Ground-Water Flow Eqn.\n",
      " Solving:  Stress period:    74    Time step:     1    Ground-Water Flow Eqn.\n",
      " Solving:  Stress period:    75    Time step:     1    Ground-Water Flow Eqn.\n",
      " Solving:  Stress period:    76    Time step:     1    Ground-Water Flow Eqn.\n",
      " Solving:  Stress period:    77    Time step:     1    Ground-Water Flow Eqn.\n",
      " Solving:  Stress period:    78    Time step:     1    Ground-Water Flow Eqn.\n",
      " Solving:  Stress period:    79    Time step:     1    Ground-Water Flow Eqn.\n",
      " Solving:  Stress period:    80    Time step:     1    Ground-Water Flow Eqn.\n",
      " Solving:  Stress period:    81    Time step:     1    Ground-Water Flow Eqn.\n",
      " Solving:  Stress period:    82    Time step:     1    Ground-Water Flow Eqn.\n",
      " Solving:  Stress period:    83    Time step:     1    Ground-Water Flow Eqn.\n",
      " Solving:  Stress period:    84    Time step:     1    Ground-Water Flow Eqn.\n",
      " Solving:  Stress period:    85    Time step:     1    Ground-Water Flow Eqn.\n",
      " Solving:  Stress period:    86    Time step:     1    Ground-Water Flow Eqn.\n",
      " Solving:  Stress period:    87    Time step:     1    Ground-Water Flow Eqn.\n",
      " Solving:  Stress period:    88    Time step:     1    Ground-Water Flow Eqn.\n",
      " Solving:  Stress period:    89    Time step:     1    Ground-Water Flow Eqn.\n",
      " Solving:  Stress period:    90    Time step:     1    Ground-Water Flow Eqn.\n",
      " Solving:  Stress period:    91    Time step:     1    Ground-Water Flow Eqn.\n",
      " Solving:  Stress period:    92    Time step:     1    Ground-Water Flow Eqn.\n",
      " Solving:  Stress period:    93    Time step:     1    Ground-Water Flow Eqn.\n",
      " Solving:  Stress period:    94    Time step:     1    Ground-Water Flow Eqn.\n",
      " Solving:  Stress period:    95    Time step:     1    Ground-Water Flow Eqn.\n",
      " Solving:  Stress period:    96    Time step:     1    Ground-Water Flow Eqn.\n",
      " Solving:  Stress period:    97    Time step:     1    Ground-Water Flow Eqn.\n",
      " Solving:  Stress period:    98    Time step:     1    Ground-Water Flow Eqn.\n",
      " Solving:  Stress period:    99    Time step:     1    Ground-Water Flow Eqn.\n",
      " Solving:  Stress period:   100    Time step:     1    Ground-Water Flow Eqn.\n"
     ]
    },
    {
     "name": "stdout",
     "output_type": "stream",
     "text": [
      " Run end date and time (yyyy/mm/dd hh:mm:ss): 2020/04/30 11:31:26\n",
      " Elapsed run time: 41.816 Seconds\n",
      "\n",
      "  Normal termination of simulation\n"
     ]
    }
   ],
   "source": [
    "#create model object\n",
    "modelname = \"Ensemble_Testing_%s\"%model_num\n",
    "moddir=\"/Applications/MODFLOW/mf2005\"\n",
    "# moddir = \"/Users/abramfarley/Desktop/gw_modeling/ModFlow_Builds/pymake/examples/mf2005\"\n",
    "# moddir=\"/WRDAPP/MF2005.1_12/bin/mf2005.exe\"\n",
    "# moddir=\"C:/mf2005\"\n",
    "m = flopy.modflow.Modflow(modelname, exe_name = moddir)\n",
    "\n",
    "\n",
    "#Discretization - dis\n",
    "dis = flopy.modflow.ModflowDis(model=m, nlay=nlay, nrow=nrow, ncol=ncol, \n",
    "                               delr=dx, delc=dy, top=ztop, botm=botm, \n",
    "                               itmuni = 4, lenuni = 2, \n",
    "                               nper=nper, steady=steady, perlen=perlen, nstp=nstp)\n",
    "\n",
    "# Boundary and initial conditions - bas\n",
    "bas = flopy.modflow.ModflowBas(m, ibound=ibound, strt=H_init)\n",
    "\n",
    "#Layer properties - lpf\n",
    "lpf = flopy.modflow.ModflowLpf(m, laytyp=1, hk=Kh, \n",
    "                               vka=Kz, ss=Ss,\n",
    "                               sy=Sy,storagecoefficient=True, ipakcb=53)\n",
    "#ET - evt\n",
    "evt = flopy.modflow.mfevt.ModflowEvt(m, surf=ztop, evtr=ET_zone, exdp=extinction_depth, ipakcb=53) \n",
    "\n",
    "#Recharge - rch\n",
    "rch = flopy.modflow.mfrch.ModflowRch(model=m, rech=rech_zone_forced, ipakcb=53)     #create rch object\n",
    "\n",
    "#River - riv\n",
    "riv = flopy.modflow.ModflowRiv(model=m, stress_period_data = riv_spd, ipakcb=53)\n",
    "\n",
    "#Well - wel\n",
    "wel = flopy.modflow.ModflowWel(model=m, stress_period_data=wel_spd)\n",
    "\n",
    "# #Storage?\n",
    "# sto = flopy.mf6.modflow.mfgwfsto.ModflowGwfsto(model=m, loading_package=False, save_flows=True, storagecoefficient=None, iconvert=0, ss=Ss, sy=Sy, transient=True)\n",
    "\n",
    "#Output control - OC \n",
    "#spd = {(0,0):['print head', 'print budget', 'save head', 'save budget']} #create a dictionary for stress period data, where key (0,0) is associated with value ['print...'] \n",
    "\n",
    "oc_spd = {}\n",
    "for kper in range(0, nper):\n",
    "    for kstp in range(nstp[kper]):\n",
    "        #print(kstp)\n",
    "        oc_spd[(kper, kstp)] = ['save head','save drawdown','save budget','print head','print budget']\n",
    "# #print(np.shape(oc_spd))\n",
    "oc = flopy.modflow.ModflowOc(model=m, stress_period_data=oc_spd, compact=True)\n",
    "\n",
    "# oc_spd = {}\n",
    "# for kper in range(0,nper-1): #nper is 201, this is the key for each entry in oc_spd dict\n",
    "#     oc_spd[(kper, 1)] = ['save head','save drawdown','save budget','print head','print budget']\n",
    "#     oc_spd[(kper, 90)] = ['save head','save drawdown','save budget','print head','print budget']\n",
    "#     oc_spd[(kper, 179)] = ['save head','save drawdown','save budget','print head','print budget']\n",
    "# oc = flopy.modflow.ModflowOc(model=m, stress_period_data=oc_spd, compact=True)\n",
    "\n",
    "#Numerical solver - pcg\n",
    "pcg = flopy.modflow.ModflowPcg(model=m, mxiter=5000, iter1=100, relax = 0.95, damp = 0.1)\n",
    "\n",
    "\n",
    "#write the inputs\n",
    "m.write_input()\n",
    "# m.evt.check()\n",
    "# m.oc.check()\n",
    "# m.oc.check()\n",
    "# m.lpf.check()\n",
    "# m.pcg.check()\n",
    "# m.riv.check()\n",
    "# m.rch.check()\n",
    "# m.dis.check()\n",
    "\n",
    "\n",
    "#Run the model \n",
    "success, mfoutput = m.run_model(pause=False, report=True)\n",
    "if not success:\n",
    "    raise Exception('MODFLOW did not terminate normally.')\n"
   ]
  },
  {
   "cell_type": "markdown",
   "metadata": {},
   "source": [
    "### Domain plot"
   ]
  },
  {
   "cell_type": "code",
   "execution_count": 43,
   "metadata": {},
   "outputs": [
    {
     "data": {
      "image/png": "[encoded data removed]",
      "text/plain": [
       "<Figure size 576x576 with 1 Axes>"
      ]
     },
     "metadata": {
      "needs_background": "light"
     },
     "output_type": "display_data"
    }
   ],
   "source": [
    "fig = plt.figure(figsize=(8, 8))\n",
    "ax = fig.add_subplot(1, 1, 1, aspect='equal')\n",
    "\n",
    "modelmap = flopy.plot.PlotMapView(model=m)\n",
    "grid = modelmap.plot_grid()\n",
    "#zones = ET_zone + rech_zone_forced\n",
    "quadmesh = modelmap.plot_array(rech_zone_forced)\n",
    "#quadmesh = modelmap.plot_array(rech_zone_forced)\n",
    "\n",
    "riv_plot = modelmap.plot_bc(ftype='RIV')\n",
    "quadmesh = modelmap.plot_ibound(ibound[0])\n",
    "wel = modelmap.plot_bc(ftype='WEL')\n",
    "# quadmesh = modelmap.plot_array(rech_zone_forced) #, color='purple')\n",
    "riv_plot = modelmap.plot_bc(ftype='RIV')\n",
    "# chd_plot = modelmap.plot_bc(ftype='CHD')\n",
    "# quadmesh = modelmap.plot_bc('WEL')\n",
    "quadmesh = modelmap.plot_ibound()\n",
    "\n",
    "\n",
    "\n",
    "#add labels and legend\n",
    "plt.xlabel('Lx (m)',fontsize = 14)\n",
    "plt.ylabel('Ly (m)',fontsize = 14)\n",
    "plt.title('Ibound', fontsize = 15, fontweight = 'bold')\n",
    "plt.legend(handles=[mp.patches.Patch(color='blue',label='Const. Head',ec='black'),\n",
    "                   mp.patches.Patch(color='white',label='Active Cell',ec='black'),\n",
    "                   mp.patches.Patch(color='black',label='Inactive Cell',ec='black'),\n",
    "                    mp.patches.Patch(color='red',label='well',ec='black'), \n",
    "                   mp.patches.Patch(color='yellow',label='ET_zone',ec='black'),\n",
    "                    mp.patches.Patch(color='orange',label='Recharge',ec='black'),\n",
    "                    mp.patches.Patch(color='green',label='River',ec='black')\n",
    "                   ])\n",
    "\n",
    "plt.show(modelmap)\n",
    "#plt.savefig('Domaingrid.png')"
   ]
  },
  {
   "cell_type": "markdown",
   "metadata": {},
   "source": [
    "### Read in binary files"
   ]
  },
  {
   "cell_type": "code",
   "execution_count": 89,
   "metadata": {},
   "outputs": [
    {
     "name": "stdout",
     "output_type": "stream",
     "text": [
      "[b'         STORAGE', b'   CONSTANT HEAD', b'FLOW RIGHT FACE ', b'FLOW FRONT FACE ', b'FLOW LOWER FACE ', b'   RIVER LEAKAGE', b'              ET', b'        RECHARGE']\n"
     ]
    }
   ],
   "source": [
    "hds = bf.HeadFile(modelname+'.hds')                   # reads the binary head file\n",
    "times = hds.get_times() # returns a list of timesteps\n",
    "#times = []\n",
    "# for t in range(len(perlen)):\n",
    "#     if t == 0:\n",
    "#         times.append(perlen[t])\n",
    "#     else:\n",
    "#         times.append(times[t-1]+perlen[t])\n",
    "#print(times)\n",
    "\n",
    "head = {} \n",
    "leakage = {}\n",
    "fff = {}\n",
    "stor = {}\n",
    "recharge = {}\n",
    "et = {}\n",
    "frf = {}\n",
    "headobj = flopy.utils.binaryfile.HeadFile(modelname+'.hds')\n",
    "budgobj = flopy.utils.binaryfile.CellBudgetFile(modelname+'.cbc')\n",
    "\n",
    "print(budgobj.get_unique_record_names())\n",
    "\n",
    "for stress_per, time in enumerate(times): #iterate through times at end of each stress period\n",
    "    head['sp%s'%(stress_per)] = headobj.get_data(totim=time) #append heads to head list for ea stress per\n",
    "    leakage['sp%s'%(stress_per)] = budgobj.get_data(text='RIVER LEAKAGE',totim=time) #append right face flow to frf list for ea stress per\n",
    "    fff['sp%s'%(stress_per)] = budgobj.get_data(text='FLOW FRONT FACE',totim=time) #append front face flow to fff list for ea stress per\n",
    "    frf['sp%s'%(stress_per)] = budgobj.get_data(text='flow right face', totim=time)\n",
    "    stor['sp%s'%(stress_per)] = budgobj.get_data(text='STORAGE',totim=time)\n",
    "    recharge['sp%s'%(stress_per)] = budgobj.get_data(text='RECHARGE', totim=time) \n",
    "    et['sp%s'%(stress_per)] = budgobj.get_data(text='ET', totim=time) \n",
    "\n",
    "# print(recharge.keys())\n",
    "# print(recharge[\"sp1\"])\n",
    "# print(recharge[\"sp1199\"])"
   ]
  },
  {
   "cell_type": "code",
   "execution_count": 45,
   "metadata": {},
   "outputs": [
    {
     "name": "stdout",
     "output_type": "stream",
     "text": [
      "100\n"
     ]
    }
   ],
   "source": [
    "print(len(head))"
   ]
  },
  {
   "cell_type": "markdown",
   "metadata": {},
   "source": [
    "### Gridded domain plot"
   ]
  },
  {
   "cell_type": "code",
   "execution_count": 13,
   "metadata": {},
   "outputs": [],
   "source": [
    "# fig = plt.figure(figsize=(15, 5))\n",
    "# ax = fig.add_subplot(1, 1, 1)\n",
    "\n",
    "# xsect = flopy.plot.PlotCrossSection(model=m, line={'row': 25}) #note use the key 'column' if you want to plot a column instaed\n",
    "# patches = xsect.plot_ibound(color_noflow='red', color_ch='blue')\n",
    "# #patches = xsect.plot_bc('WEL', color='red')\n",
    "# # linecollection = xsect.plot_grid(color='green')\n",
    "# # t = ax.set_title('Row 25 Cross-Section with IBOUND Boundary Conditions')\n",
    "\n",
    "# pc = xsect.plot_array(head['sp1200'], masked_values=[-999.99], head=head, alpha=0.5)\n",
    "# patches = xsect.plot_ibound(head=head['sp1200'])\n",
    "# #patches = xsect.plot_ibound(color_noflow='red', color_ch='blue')\n",
    "# #patches = xsect.plot_bc('WEL', color='red')\n",
    "# linecollection = xsect.plot_grid(color='black', lw=0.5)\n",
    "# t = ax.set_title('3 Layer Model Row 25 Cross-Section')\n",
    "# cb = plt.colorbar(pc, shrink=0.75)\n",
    "# #Overlay the head in a layer of the model- in this case I'm doing the top layer i.e. head3[0,:,:]\n",
    "# wt = xsect.plot_surface(head['sp200'][0,:,:], masked_values=[999.], color='blue', lw=1)"
   ]
  },
  {
   "cell_type": "markdown",
   "metadata": {},
   "source": [
    "## Plotting Heads"
   ]
  },
  {
   "cell_type": "code",
   "execution_count": 90,
   "metadata": {
    "scrolled": true
   },
   "outputs": [
    {
     "data": {
      "image/png": "[encoded data removed]",
      "text/plain": [
       "<Figure size 432x288 with 1 Axes>"
      ]
     },
     "metadata": {
      "needs_background": "light"
     },
     "output_type": "display_data"
    }
   ],
   "source": [
    "#plot a time series at cell left of river\n",
    "#get time series for cell\n",
    "\n",
    "cell_id1 = well_loc #cell at the center of the ag area\n",
    "time_series1 = headobj.get_ts(cell_id1) #get the time series using flopy\n",
    "\n",
    "#create firt plot  \n",
    "plt.subplot(1, 1, 1)\n",
    "plt.title(\"Head at Aquaseca Well (2122111)\",fontweight='bold')\n",
    "plt.xlabel('time (years)',fontweight='bold')\n",
    "plt.ylabel('head (m)',fontweight='bold')\n",
    "# plt.ylim(74.5,76)\n",
    "plt.plot(time_series1[:, 0]/360, time_series1[:, 1], 'b-', color=\"brown\") #plot the time series with points at each record\n",
    "# print(time_series1[:, 1])\n",
    "plt.savefig(\"Head_Aqua5_2122111.png\",dpi=600)\n",
    "plt.show()\n"
   ]
  },
  {
   "cell_type": "code",
   "execution_count": 15,
   "metadata": {},
   "outputs": [
    {
     "data": {
      "image/png": "[encoded data removed]",
      "text/plain": [
       "<Figure size 432x288 with 1 Axes>"
      ]
     },
     "metadata": {
      "needs_background": "light"
     },
     "output_type": "display_data"
    }
   ],
   "source": [
    "\n",
    "#plot a time series at cell left of river\n",
    "#get time series for cell\n",
    "\n",
    "cell_id1 = well2_loc #cell at the center of the ag area\n",
    "time_series1 = headobj.get_ts(cell_id1) #get the time series using flopy\n",
    "\n",
    "#create firt plot  \n",
    "plt.subplot(1, 1, 1)\n",
    "plt.title(\"Head at MW1\",fontweight='bold')\n",
    "plt.xlabel('time (days)',fontweight='bold')\n",
    "plt.ylabel('head (m)',fontweight='bold')\n",
    "plt.plot(time_series1[:, 0], time_series1[:, 1], 'b-') #plot the time series with points at each record\n",
    "# plt.plot(time_series1[900:, 0], time_series1[900:, 1], 'b-') #less data\n",
    "\n",
    "plt.savefig(\"Head_M1_5.png\",dpi=600)\n",
    "plt.show()\n"
   ]
  },
  {
   "cell_type": "code",
   "execution_count": 16,
   "metadata": {},
   "outputs": [
    {
     "data": {
      "image/png": "[encoded data removed]",
      "text/plain": [
       "<Figure size 432x288 with 1 Axes>"
      ]
     },
     "metadata": {
      "needs_background": "light"
     },
     "output_type": "display_data"
    }
   ],
   "source": [
    "\n",
    "#plot a time series at cell left of river\n",
    "#get time series for cell\n",
    "\n",
    "cell_id1 = well3_loc #cell at the center of the ag area\n",
    "time_series1 = headobj.get_ts(cell_id1) #get the time series using flopy\n",
    "\n",
    "#create firt plot  \n",
    "plt.subplot(1, 1, 1)\n",
    "plt.title(\"Head at MW2\",fontweight='bold')\n",
    "plt.xlabel('time (years)',fontweight='bold')\n",
    "plt.ylabel('head (m)',fontweight='bold')\n",
    "# plt.ylim(87, 92)\n",
    "plt.plot(time_series1[:, 0]/360, time_series1[:, 1], 'b-') #plot the time series with points at each record\n",
    "\n",
    "plt.savefig(\"Head_M2_5png\", dpi=600)\n",
    "plt.show()\n"
   ]
  },
  {
   "cell_type": "code",
   "execution_count": 17,
   "metadata": {},
   "outputs": [
    {
     "data": {
      "image/png": "[encoded data removed]",
      "text/plain": [
       "<Figure size 432x288 with 1 Axes>"
      ]
     },
     "metadata": {
      "needs_background": "light"
     },
     "output_type": "display_data"
    }
   ],
   "source": [
    "\n",
    "#plot a time series at cell left of river\n",
    "#get time series for cell\n",
    "\n",
    "cell_id1 = well4_loc #cell at the center of the ag area\n",
    "time_series1 = headobj.get_ts(cell_id1) #get the time series using flopy\n",
    "\n",
    "#create firt plot  \n",
    "plt.subplot(1, 1, 1)\n",
    "plt.title(\"Head at Irrigation Well (Scen 5)\",fontweight='bold')\n",
    "plt.xlabel('time (years)',fontweight='bold')\n",
    "plt.ylabel('head (m)',fontweight='bold')\n",
    "#plt.ylim(89, 92)\n",
    "plt.plot(time_series1[:, 0]/360, time_series1[:, 1], 'b-', color=\"magenta\") #plot the time series with points at each record\n",
    "\n",
    "plt.savefig(\"Head_irri5.png\", dpi=600)\n",
    "plt.show()\n"
   ]
  },
  {
   "cell_type": "markdown",
   "metadata": {},
   "source": [
    "### Leakage calculation"
   ]
  },
  {
   "cell_type": "code",
   "execution_count": 18,
   "metadata": {},
   "outputs": [
    {
     "name": "stdout",
     "output_type": "stream",
     "text": [
      "[18553 22019 24761 27103 29173 31034 32726 34283 35723 37055 38307 39486\n",
      " 40592 41634 42618 43553 44429 45267 46068 46827 47567 48265 48935 49569\n",
      " 50173 50750 51304 51838 52342 52833 53314 53765 54203 54617 55017 55395\n",
      " 55763 56118 56460 56783 57117 57419 57712 57994 58266 58523 58772 59015\n",
      " 59247 59470 59702 59911 60122 60314 60498 60685 60856 61026 61186 61343\n",
      " 61512 61665 61807 61941 62077 62207 62334 62449 62564 62675 62799 62911\n",
      " 63014 63112 63208 63302 63388 63477 63558 63637 63731 63812 63887 63967\n",
      " 64033 64107 64165 64229 64289 64348 64422 64484 64541 64598 64647 64698\n",
      " 64748 64792 64840    99]\n"
     ]
    }
   ],
   "source": [
    "well_loc\n",
    "head['sp0'][0][19][38]\n",
    "#head['sp0'][well_loc[0]][well_loc[1]][well_loc[2]]\n",
    "\n",
    "#budgobj = flopy.utils.binaryfile.CellBudgetFile(modelname+'.cbc')\n",
    "#leakage = budgobj.get_data(text='RIVER LEAKAGE')\n",
    "#print(leakage[0])\n",
    "perflux = np.array(range(nper))\n",
    "\n",
    "for i in range(nper-1):\n",
    "    ##print(\"Stream Leakage for Stress period %s\"%i)\n",
    "    perflux[i] = 0\n",
    "    for k in range(len(leakage['sp%s'%i][0])):\n",
    "        #print(leakage['sp%s'%i][0][k][1])\n",
    "        perflux[i] = perflux[i] + leakage['sp%s'%i][0][k][1]\n",
    "        #flux[i] = flux[i] + leakage[0][k][1]\n",
    "    \n",
    "print(perflux)    \n"
   ]
  },
  {
   "cell_type": "markdown",
   "metadata": {},
   "source": [
    "## Water Budget calculations"
   ]
  },
  {
   "cell_type": "code",
   "execution_count": 19,
   "metadata": {},
   "outputs": [
    {
     "name": "stdout",
     "output_type": "stream",
     "text": [
      "100\n",
      "87\n",
      "Total stream leakge at year 100:\n",
      "774927.2734375\n",
      "87\n",
      "Total GW outflow 100 year:\n",
      "360089.1434326172\n",
      "87\n",
      "Total ET at year 100:\n",
      "-247753.94140625\n",
      "87\n",
      "Total rech at year 100:\n",
      "85440.0\n"
     ]
    }
   ],
   "source": [
    "print(len(head))\n",
    "##STream Leakage\n",
    "\n",
    "t2 = max(enumerate(times))\n",
    "t = t2[0] - 12\n",
    "print(t)\n",
    "leak = 0\n",
    "for i in range(12):\n",
    "    leak = leak + np.sum(leakage['sp%s'%(t+i)][0].q)\n",
    "print(\"Total stream leakge at year 100:\")    \n",
    "print(leak)   \n",
    "# t = 0\n",
    "# ileak = 0\n",
    "# for i in range(12):\n",
    "#     ileak = ileak + np.sum(leakage['sp%s'%(t+i)][0].q)\n",
    "    \n",
    "# print(int(ileak))    \n",
    "\n",
    "##GW outflow\n",
    "t = t2[0] - 12\n",
    "print(t)\n",
    "frf_total = 0\n",
    "for k in range(nlay):\n",
    "    for i in range(12):\n",
    "        frf_total = frf_total + np.sum(frf['sp%s'%(t+i)][0][k][:][48])\n",
    "\n",
    "print(\"Total GW outflow 100 year:\")\n",
    "print(frf_total)\n",
    "#print(np.sum(leakage['sp0'][0].q) - np.sum(leakage['sp1199'][0].q))\n",
    "\n",
    "## ET\n",
    "t = t2[0] - 12\n",
    "print(t)\n",
    "ET_total = 0\n",
    "for i in range(12):\n",
    "       ET_total = ET_total + np.sum(np.sum(et['sp%s'%(t+i)][0][1][:][:]))\n",
    "print(\"Total ET at year 100:\")\n",
    "print(ET_total) \n",
    "\n",
    "## Recharge\n",
    "t = t2[0] - 12\n",
    "print(t)\n",
    "rech_total = 0\n",
    "for i in range(12):\n",
    "       rech_total = rech_total + np.sum(np.sum(recharge['sp%s'%(t+i)][0][1][:][:]))\n",
    "print(\"Total rech at year 100:\")\n",
    "print(rech_total)     \n"
   ]
  },
  {
   "cell_type": "markdown",
   "metadata": {},
   "source": [
    "### Testing stuff"
   ]
  },
  {
   "cell_type": "code",
   "execution_count": 20,
   "metadata": {},
   "outputs": [
    {
     "data": {
      "text/plain": [
       "100"
      ]
     },
     "execution_count": 20,
     "metadata": {},
     "output_type": "execute_result"
    }
   ],
   "source": [
    "type(times)\n",
    "len(times)\n"
   ]
  },
  {
   "cell_type": "code",
   "execution_count": 21,
   "metadata": {},
   "outputs": [
    {
     "name": "stdout",
     "output_type": "stream",
     "text": [
      "WARNING: unit 14 of package OC already in use\n",
      "****Warning -- two packages of the same type:  <class 'flopy.modflow.mfoc.ModflowOc'> <class 'flopy.modflow.mfoc.ModflowOc'>\n",
      "replacing existing Package...\n"
     ]
    }
   ],
   "source": [
    "oc_spd = {}\n",
    "for kper in range(1,nper): #nper is 201, this is the key for each entry in oc_spd dict\n",
    "    oc_spd[(kper, 1)] = ['save head','save drawdown','save budget','print head','print budget']\n",
    "    oc_spd[(kper, 90)] = ['save head','save drawdown','save budget','print head','print budget']\n",
    "    oc_spd[(kper, 179)] = ['save head','save drawdown','save budget','print head','print budget']\n",
    "oc = flopy.modflow.ModflowOc(model=m, stress_period_data=oc_spd, compact=True)\n"
   ]
  },
  {
   "cell_type": "markdown",
   "metadata": {},
   "source": [
    "### Storage"
   ]
  },
  {
   "cell_type": "code",
   "execution_count": 22,
   "metadata": {},
   "outputs": [
    {
     "name": "stdout",
     "output_type": "stream",
     "text": [
      "1446847.8657226562\n",
      "year 0.0 516483.96484375\n",
      "year 1.0 320271.375\n",
      "year 2.0 211964.4052734375\n",
      "year 3.0 143298.19921875\n",
      "year 4.0 97986.4462890625\n",
      "year 5.0 67752.58935546875\n",
      "year 6.0 47173.926513671875\n",
      "year 7.0 33230.806396484375\n"
     ]
    },
    {
     "ename": "KeyError",
     "evalue": "'sp100'",
     "output_type": "error",
     "traceback": [
      "\u001b[0;31m---------------------------------------------------------------------------\u001b[0m",
      "\u001b[0;31mKeyError\u001b[0m                                  Traceback (most recent call last)",
      "\u001b[0;32m<ipython-input-22-acd399dea5ec>\u001b[0m in \u001b[0;36m<module>\u001b[0;34m\u001b[0m\n\u001b[1;32m     43\u001b[0m     \u001b[0;32mfor\u001b[0m \u001b[0msp\u001b[0m \u001b[0;32min\u001b[0m \u001b[0mrange\u001b[0m\u001b[0;34m(\u001b[0m\u001b[0;36m12\u001b[0m\u001b[0;34m)\u001b[0m\u001b[0;34m:\u001b[0m\u001b[0;34m\u001b[0m\u001b[0;34m\u001b[0m\u001b[0m\n\u001b[1;32m     44\u001b[0m         \u001b[0mtimestep\u001b[0m \u001b[0;34m=\u001b[0m \u001b[0mi\u001b[0m \u001b[0;34m+\u001b[0m \u001b[0msp\u001b[0m\u001b[0;34m\u001b[0m\u001b[0;34m\u001b[0m\u001b[0m\n\u001b[0;32m---> 45\u001b[0;31m         \u001b[0mstorage_i\u001b[0m \u001b[0;34m=\u001b[0m \u001b[0mstor\u001b[0m\u001b[0;34m[\u001b[0m\u001b[0;34m'sp%s'\u001b[0m\u001b[0;34m%\u001b[0m\u001b[0;34m(\u001b[0m\u001b[0mtimestep\u001b[0m\u001b[0;34m)\u001b[0m\u001b[0;34m]\u001b[0m\u001b[0;34m[\u001b[0m\u001b[0;36m0\u001b[0m\u001b[0;34m]\u001b[0m\u001b[0;34m[\u001b[0m\u001b[0;34m:\u001b[0m\u001b[0;34m]\u001b[0m\u001b[0;34m.\u001b[0m\u001b[0msum\u001b[0m\u001b[0;34m(\u001b[0m\u001b[0;34m)\u001b[0m\u001b[0;34m\u001b[0m\u001b[0;34m\u001b[0m\u001b[0m\n\u001b[0m\u001b[1;32m     46\u001b[0m         \u001b[0mstorage_change\u001b[0m \u001b[0;34m=\u001b[0m \u001b[0mstorage_change\u001b[0m \u001b[0;34m+\u001b[0m \u001b[0mstorage_i\u001b[0m\u001b[0;34m\u001b[0m\u001b[0;34m\u001b[0m\u001b[0m\n\u001b[1;32m     47\u001b[0m         \u001b[0;31m#print(storage_change)\u001b[0m\u001b[0;34m\u001b[0m\u001b[0;34m\u001b[0m\u001b[0;34m\u001b[0m\u001b[0m\n",
      "\u001b[0;31mKeyError\u001b[0m: 'sp100'"
     ]
    }
   ],
   "source": [
    "# #testing things\n",
    "# type(stor)\n",
    "# stor.keys()\n",
    "# #stor.values()\n",
    "\n",
    "# type(stor[\"sp1\"])\n",
    "# print(stor[\"sp1\"])\n",
    "\n",
    "# SUM=(sum(stor[\"sp1\"]))\n",
    "# print(SUM)\n",
    "\n",
    "# print(stor['sp1'][0][0].shape)\n",
    "\n",
    "# startlay0 = (stor['sp0'][0][0])\n",
    "# startlay1 = (stor['sp0'][0][1])\n",
    "# startlay2 = (stor['sp0'][0][2])\n",
    "# start_stor = startlay0 + startlay1 + startlay2\n",
    "# print(start_stor.sum())\n",
    "\n",
    "# endlay0 = (stor['sp1199'][0][0])\n",
    "# endlay1 = (stor['sp1199'][0][1])\n",
    "# endlay2 = (stor['sp1199'][0][2])\n",
    "# end_stor = endlay0 + endlay1 + endlay2\n",
    "# print(end_stor.sum())\n",
    "\n",
    "#storage change\n",
    "storage_change = 0\n",
    "for i in range(sim_years*sp_peryr*nstp[0]):\n",
    "    storage_i = stor['sp%s'%(i)][0][:].sum()\n",
    "    storage_change = storage_change + storage_i\n",
    "print(storage_change)\n",
    "\n",
    "#yearly storage\n",
    "yearly_stor = {}\n",
    "storage_change = 0\n",
    "yearlist = list(range(100))\n",
    "for i in range(len(yearlist)):\n",
    "    yearlist[i] = yearlist[i]*12\n",
    "#print(yearlist)\n",
    "\n",
    "for i in yearlist:\n",
    "    storage_change = 0\n",
    "    for sp in range(12):\n",
    "        timestep = i + sp\n",
    "        storage_i = stor['sp%s'%(timestep)][0][:].sum()\n",
    "        storage_change = storage_change + storage_i\n",
    "        #print(storage_change)\n",
    "        if sp == 11:\n",
    "            yearly_stor[i/12] = storage_change\n",
    "            print('year', i/12, storage_change)\n",
    "            \n",
    "            \n",
    "#more storage stuff\n",
    "storage_tot = 0\n",
    "for i in range(100):\n",
    "    storage_tot = storage_tot + yearly_stor[i]\n",
    "    \n",
    "print(storage_tot)\n",
    "print(0.000810714*storage_tot)\n",
    "\n",
    "\n",
    "yearlist2 = list(range(100))\n",
    "print(yearlist2)\n",
    "print(type(yearly_stor))\n",
    "stor_ls = []\n",
    "for i in range(100):\n",
    "    stor_ls.append(yearly_stor[i])\n",
    "  "
   ]
  },
  {
   "cell_type": "code",
   "execution_count": null,
   "metadata": {},
   "outputs": [],
   "source": [
    "plt.subplot(1, 1, 1)\n",
    "plt.title(\"Change in Storage\",fontweight='bold')\n",
    "plt.xlabel('Year',fontweight='bold')\n",
    "plt.ylabel('Change Storage',fontweight='bold')\n",
    "plt.plot(yearlist2, stor_ls, 'b-', color=\"darkblue\") #plot the time series with points at each record\n",
    "# plt.savefig('storage.png', dpi=600)\n",
    "plt.show()\n"
   ]
  },
  {
   "cell_type": "markdown",
   "metadata": {},
   "source": [
    "#### Cumulative storage"
   ]
  },
  {
   "cell_type": "code",
   "execution_count": null,
   "metadata": {},
   "outputs": [],
   "source": [
    "cum_storage_ls = []\n",
    "cum_storage = 0\n",
    "for i in range(100):\n",
    "    cum_storage = cum_storage + yearly_stor[i]\n",
    "    cum_storage_ls.append(cum_storage)\n",
    "    "
   ]
  },
  {
   "cell_type": "code",
   "execution_count": null,
   "metadata": {},
   "outputs": [],
   "source": [
    "plt.subplot(1, 1, 1)\n",
    "plt.title(\"Cumulative Change in Storage\",fontweight='bold')\n",
    "plt.xlabel('Year',fontweight='bold')\n",
    "plt.ylabel('Change Storage',fontweight='bold')\n",
    "plt.plot(yearlist2, cum_storage_ls, 'b-', color=\"purple\") #plot the time series with points at each record\n",
    "# plt.savefig('cumstorage.png', dpi=600)\n",
    "plt.show()\n"
   ]
  }
 ],
 "metadata": {
  "kernelspec": {
   "display_name": "Python 3",
   "language": "python",
   "name": "python3"
  },
  "language_info": {
   "codemirror_mode": {
    "name": "ipython",
    "version": 3
   },
   "file_extension": ".py",
   "mimetype": "text/x-python",
   "name": "python",
   "nbconvert_exporter": "python",
   "pygments_lexer": "ipython3",
   "version": "3.8.1"
  }
 },
 "nbformat": 4,
 "nbformat_minor": 4
}
